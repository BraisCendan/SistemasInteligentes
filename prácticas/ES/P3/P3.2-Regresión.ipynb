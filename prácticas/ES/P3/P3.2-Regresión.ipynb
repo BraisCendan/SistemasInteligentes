{
 "cells": [
  {
   "cell_type": "markdown",
   "metadata": {},
   "source": [
    "# **Práctica 3.2: Aprendizaje Automático (Regresión)**\n",
    "\n",
    "<hr>\n",
    "\n",
    "## **1. Introducción**\n",
    "\n",
    "En la práctica anterior nos centramos en la resolución de problemas donde pretendíamos, a partir de una entrada, predecir una clase (clasificación). \n",
    "\n",
    "Para finalizar con el diagrama del *aprendizaje automático*, más concretamente con la rama del *aprendizaje supervisado*, aún nos quedaría por ver los problemas de **regresión**.\n",
    "\n",
    "<center><img src=\"https://i.imgur.com/CN1RVmy.png\" alt=\"diagram\" width=\"1000\"/></center>\n",
    "\n",
    "Como sabes, en un problema de regresión buscamos predecir uno o varios **valores numéricos**. Al igual que en la clasificación, para poder resolver problemas de aprendizaje supervisado de regresión también vamos a necesitar **datos etiquetados**, es decir, datos donde ya conocemos, para una entrada dada, la salida esperada o etiqueta correcta. \n",
    "\n",
    "Estos datos serán los que utilice el modelo para intentar aprender esa *fórmula desconocida* durante el entrenamiento.\n",
    "\n",
    "### **Objetivo**\n",
    "En esta práctica aprenderás a resolver problemas de regresión utilizando diferentes modelos así como a evaluar su rendimiento. \n"
   ]
  },
  {
   "cell_type": "markdown",
   "metadata": {},
   "source": [
    "<hr>\n",
    "\n",
    "## **2. Ejercicio 1**\n",
    "\n",
    "Se nos solicita realizar la siguiente tarea:\n",
    "\n",
    "> Crear un modelo que, dado el tiempo en el primer sector `Sector1Time` sea capaz de predecir el tiempo total de la vuelta `LapTime`.    \n",
    "\n",
    "Vamos a cargar de nuevo nuestros datos y a generar el conjunto necesario para resolver el problema.\n"
   ]
  },
  {
   "cell_type": "code",
   "execution_count": null,
   "metadata": {},
   "outputs": [],
   "source": [
    "import pandas as pd\n",
    "\n",
    "seed = 2533\n",
    "\n",
    "data = pd.read_pickle(\"https://raw.githubusercontent.com/AIC-Uniovi/Sistemas-Inteligentes/refs/heads/main/datasets/f1_23_monaco.pkl\")"
   ]
  },
  {
   "cell_type": "markdown",
   "metadata": {},
   "source": [
    "<div class=\"alert alert-block alert-info\">\n",
    "    <b>Ejercicio:</b> Crea un gráfico de dispersión para analizar la relación entre ambas variables.\n",
    "</div>"
   ]
  },
  {
   "cell_type": "code",
   "execution_count": null,
   "metadata": {},
   "outputs": [],
   "source": [
    "import matplotlib.pyplot as plt\n",
    "import seaborn as sns\n",
    "\n",
    "# Tu código aquí"
   ]
  },
  {
   "cell_type": "markdown",
   "metadata": {},
   "source": [
    "<div class=\"alert alert-block alert-info\">\n",
    "    <b>Ejercicio:</b> Elimina el <i>outlier</i> del dataframe y genera el gráfico de nuevo. Dado el nuevo gráfico ¿dirías que la relación entre las variables es <strong>lineal</strong> o <strong>no lineal</strong>?\n",
    "</div>"
   ]
  },
  {
   "cell_type": "code",
   "execution_count": null,
   "metadata": {},
   "outputs": [],
   "source": [
    "# Tu código aquí"
   ]
  },
  {
   "cell_type": "markdown",
   "metadata": {},
   "source": [
    "En función del tipo de relación habrá que seleccionar unos modelos de regresión u otros. \n",
    "\n",
    "<div class=\"alert alert-block alert-warning\">\n",
    "    No siempre podemos analizar visualmente como es esta relación, en este caso si por que solo tenemos dos variables, pero normalmente esto no será posible.\n",
    "</div>\n",
    "\n",
    "### **Datasets**\n",
    "\n",
    "Independientemente del modelo elegido, al igual que en la parte de clasificación será necesario crear un dataset etiquetado (con X e Y) y dividido en entrenamiento y test."
   ]
  },
  {
   "cell_type": "markdown",
   "metadata": {},
   "source": [
    "<div class=\"alert alert-block alert-info\">\n",
    "    <b>Ejercicio:</b> Crea el DataFrame <code>data_sector2lap</code> con las columnas necesarias para resolver este problema. Transforma las columnas de timedelta a float mediante <code>data[\"columnname\"].dt.total_seconds()</code> .Divide en entrenamiento y test (80/20), posteriormente <b>estandariza</b> las X.\n",
    "    <hr>\n",
    "    Cuando la X solo tiene una columna, es necesario utilizar dobles corchetes (<code>data[[\"nombrecolumna\"]]</code> y no <code>data[\"nombrecolumna\"]</code>) para que funcione correctamente el <code>StandardScaler()</code>.\n",
    "</div>"
   ]
  },
  {
   "cell_type": "code",
   "execution_count": null,
   "metadata": {},
   "outputs": [],
   "source": [
    "# Tu código aquí"
   ]
  },
  {
   "cell_type": "markdown",
   "metadata": {},
   "source": [
    "Vamos a verificar los datos de entrenamiento y de test con el siguiente gráfico:"
   ]
  },
  {
   "cell_type": "code",
   "execution_count": null,
   "metadata": {},
   "outputs": [],
   "source": [
    "plt.figure(figsize=(12,8))\n",
    "sns.scatterplot(x=X_train.flatten(), y=Y_train, color=('blue', 0.3), edgecolors=None, label='Train data')\n",
    "plot = sns.scatterplot(x=X_test.flatten(), y=Y_test, color=('green', 0.8), edgecolors=None, label='Test data')\n",
    "plot.set_xlabel(\"Sector1Time\")\n",
    "plot.set_ylabel(\"LapTime\")\n",
    "plot.set_title(\"Visualización de datos de entrenamiento y test\")\n",
    "plt.show()"
   ]
  },
  {
   "cell_type": "markdown",
   "metadata": {},
   "source": [
    "### **Baseline y métricas**\n",
    "Una vez creados y preprocesados los conjuntos ya podemos pasar a resolver el problema. Al igual que en los problemas de clasificación, para regresión también existen una serie de **baselines**.\n",
    "\n",
    "El más utilizado es el modelo `Media` que simplemente retorna siempre la media de las $Y$ del conjunto de entrenamiento. También existen versiones que hacen lo propio con la mediana o con cuantiles predefinidos."
   ]
  },
  {
   "cell_type": "markdown",
   "metadata": {},
   "source": [
    "<div class=\"alert alert-block alert-info\">\n",
    "    <b>Ejercicio:</b> Crea y entrena un baseline \"Media\" haciendo uso de la clase <a href = \"https://scikit-learn.org/stable/modules/generated/sklearn.dummy.DummyRegressor.html\"><code>DummyRegressor()</code></a> de <i>scikit-learn</i>. Guarda el modelo en la variable <code>baseline_media</code>.\n",
    "</div>"
   ]
  },
  {
   "cell_type": "code",
   "execution_count": null,
   "metadata": {},
   "outputs": [],
   "source": [
    "# Tu código aquí"
   ]
  },
  {
   "cell_type": "markdown",
   "metadata": {},
   "source": [
    "Una vez tenemos el modelo, como trabajamos en 2D podemos representarlo en el gráfico anterior."
   ]
  },
  {
   "cell_type": "code",
   "execution_count": null,
   "metadata": {},
   "outputs": [],
   "source": [
    "plt.figure(figsize=(12,8))\n",
    "sns.scatterplot(x=X_train.flatten(), y=Y_train, color=('blue', 0.3), edgecolors=None, label='Train data')\n",
    "sns.scatterplot(x=X_test.flatten(), y=Y_test, color=('green', 0.8), edgecolors=None, label='Test data')\n",
    "plot = sns.lineplot(x=X_train.flatten(), y=baseline_media.predict(X_train), color=\"red\", label=\"Baseline media\")\n",
    "plot.set_xlabel(\"Sector1Time\")\n",
    "plot.set_ylabel(\"LapTime\")\n",
    "plot.set_title(\"Visualización de datos de Test y modelo\")\n",
    "plt.show()"
   ]
  },
  {
   "cell_type": "markdown",
   "metadata": {},
   "source": [
    "Como ves, el baseline no se ajusta nada bien al los datos de entrenamiento, por lo que su rendimiento dejará mucho que desear.\n",
    "\n",
    "Para cuantificar la capacidad de predicción del modelo vamos, al igual que en clasificación, a obtener unas **métricas**. \n",
    "\n",
    "<div class=\"alert alert-block alert-warning\">\n",
    "    No es posible utilizar las métricas de clasificación en problemas de regresión. Las primeras están pensadas para trabajar con probabilidades (número entre 0 y 1) y las de regresión para números reales (entre -inf e inf).\n",
    "</div>\n",
    "\n",
    "Para este tipo de problemas se suelen utilizar 2 métricas principalmente, las cuales se limitan a calcular **las diferencias entre los valores reales $Y$ y los valores predichos por el modelo $\\hat{Y}$** estas son:\n",
    "* **MAE:** Error absoluto medio, implementado en el método [`mean_absolute_error(Y_test, Y_pred)`](https://scikit-learn.org/stable/modules/generated/sklearn.metrics.mean_absolute_error.html#sklearn.metrics.mean_absolute_error).\n",
    "\n",
    "* **MSE:** Error cuadrático medio, implementado en el método [`mean_squared_error(Y_test, Y_pred)`](https://scikit-learn.org/stable/modules/generated/sklearn.metrics.mean_squared_error.html#sklearn.metrics.mean_squared_error).\n",
    "\n",
    "* **$R^2$:** Coeficiente de determinación, implementado en el método [`r2_score(Y_test, Y_pred)`](https://scikit-learn.org/stable/modules/generated/sklearn.metrics.r2_score.html).\n",
    "\n",
    "\n",
    "\n",
    "<div class=\"alert alert-block alert-warning\">\n",
    "    <strong>Como el <i>MAE</i> y el <i>MSE</i> miden errores, son mejores cuanto menor es su valor. El <i>Coeficiente de determinación</i>, por el contrario, es mejor cuanto más próximo a 1 se encuentra.</strong>\n",
    "</div>"
   ]
  },
  {
   "cell_type": "markdown",
   "metadata": {},
   "source": [
    "<div class=\"alert alert-block alert-info\">\n",
    "    <b>Ejercicio:</b> Obtén las métricas anteriores para el baseline en el conjunto de <i>entrenamiento</i> y <i>test</i>.\n",
    "</div>"
   ]
  },
  {
   "cell_type": "code",
   "execution_count": null,
   "metadata": {},
   "outputs": [],
   "source": [
    "# Tu código aquí"
   ]
  },
  {
   "cell_type": "markdown",
   "metadata": {},
   "source": [
    "### **Otros modelos**\n",
    "\n",
    "Como verás, los resultados dejan mucho que desear (como se podía prever en la gráfica anterior) por tanto es necesario utilizar modelos más complejos que hagan uso de los datos de entrada. \n",
    "\n",
    "En esta práctica veremos los siguientes:\n",
    "\n",
    "* **Regresión lineal:** Aprende relaciones lineales entre las variables de entrada y de salida.\n",
    "* **Regresión polinomial:** Extiende la regresión lineal al permitir relaciones no lineales mediante el uso de polinomios.\n",
    "* **K-Nearest Neighbors:** Algoritmo de regresión que predice el valor de una instancia basándose en el promedio de los valores de sus $k$ vecinos más cercanos.\n",
    "* **Arboles de decisión:** Modelo de regresión que crea un árbol para predecir un valor basado en las características de los datos (entradas).\n",
    "* **SVR:** Versión para regresión del SVM. Al igual que en clasificación, sin funciones kernel solo es capaz de aprender relaciones lineales. Busca que la mayoría de ejemplos se encuentren dentro del $e$-tubo."
   ]
  },
  {
   "cell_type": "markdown",
   "metadata": {},
   "source": [
    "<div class=\"alert alert-block alert-info\">\n",
    "    <b>Ejercicio:</b> Entrena un modelo de <i>Regresión Lineal</i> (<code>model_linear</code>) y evalúa su rendimiento en <i>entrenamiento</i> y <i>test</i>.\n",
    "</div>"
   ]
  },
  {
   "cell_type": "code",
   "execution_count": null,
   "metadata": {},
   "outputs": [],
   "source": [
    "# Tu código aquí"
   ]
  },
  {
   "cell_type": "markdown",
   "metadata": {},
   "source": [
    "Para verificar el modelo aprendido, dibujaremos de nuevo el modelo resultante."
   ]
  },
  {
   "cell_type": "code",
   "execution_count": null,
   "metadata": {},
   "outputs": [],
   "source": [
    "plt.figure(figsize=(12,8))\n",
    "sns.scatterplot(x=X_train.flatten(), y=Y_train, color=('blue', 0.3), edgecolors=None, label='Train data')\n",
    "sns.scatterplot(x=X_test.flatten(), y=Y_test, color=('green', 0.8), edgecolors=None, label='Test data')\n",
    "plot = sns.lineplot(x=X_train.flatten(), y=model_linear.predict(X_train), color=\"red\", label=\"Regresión lineal\")\n",
    "plot.set_xlabel(\"Sector1Time\")\n",
    "plot.set_ylabel(\"LapTime\")\n",
    "plot.set_title(\"Ajuste del modelo a los datos\")\n",
    "plt.show()"
   ]
  },
  {
   "cell_type": "markdown",
   "metadata": {},
   "source": [
    "Como ves, este modelo se ajusta mucho mejor a los datos de entrenamiento y por ende funciona mejor con el conjunto de test.\n",
    "\n",
    "#### **¿Es posible mejorar aún más los resultados?**\n",
    "\n",
    "Vamos a intentar ahora resolver el problema mediante un método no lineal: **Regresión polinómica**.\n",
    "\n",
    "Este modelo no tiene una clase como tal en *Scikit-learn*, pero podemos usar `PolynomialFeatures`. Esta clase transforma nuestros datos en *features* polinómicas. \n",
    "\n",
    "Por ejemplo, si tenemos una sola *feature* $x$ y elegimos un grado 3, `PolynomialFeatures` creará dos *features* nuevas, $x^3$, $x^2$ y $x$. \n",
    "\n",
    "Esto nos permite ajustar un modelo lineal a los datos transformados, lo que equivale a ajustar un modelo polinómico a los datos originales."
   ]
  },
  {
   "cell_type": "code",
   "execution_count": null,
   "metadata": {},
   "outputs": [],
   "source": [
    "from sklearn.preprocessing import PolynomialFeatures\n",
    "\n",
    "# Transformar las características en características polinomiales\n",
    "poly = PolynomialFeatures(degree=3) \n",
    "X_train_poly = poly.fit_transform(X_train)\n",
    "X_test_poly = poly.transform(X_test)\n",
    "\n",
    "# Ajustar el modelo de regresión lineal a las características polinomiales\n",
    "model_poly = LinearRegression()\n",
    "model_poly.fit(X_train_poly, Y_train)\n",
    "\n",
    "# Evaluar el modelo en el conjunto de entrenamiento\n",
    "print(mean_absolute_error(Y_train, model_poly.predict(X_train_poly)))\n",
    "print(mean_squared_error(Y_train, model_poly.predict(X_train_poly)))\n",
    "print(r2_score(Y_train, model_poly.predict(X_train_poly)))\n",
    "print(\"----\")\n",
    "\n",
    "# Evaluar el modelo en el conjunto de prueba\n",
    "print(mean_absolute_error(Y_test, model_poly.predict(X_test_poly)))\n",
    "print(mean_squared_error(Y_test, model_poly.predict(X_test_poly)))\n",
    "print(r2_score(Y_test, model_poly.predict(X_test_poly)))"
   ]
  },
  {
   "cell_type": "markdown",
   "metadata": {},
   "source": [
    "Para verificar el modelo aprendido, dibujaremos de nuevo el modelo resultante."
   ]
  },
  {
   "cell_type": "code",
   "execution_count": null,
   "metadata": {},
   "outputs": [],
   "source": [
    "plt.figure(figsize=(12,8))\n",
    "sns.scatterplot(x=X_train.flatten(), y=Y_train, color=('blue', 0.3), edgecolors=None, label='Train data')\n",
    "sns.scatterplot(x=X_test.flatten(), y=Y_test, color=('green', 0.8), edgecolors=None, label='Test data')\n",
    "\n",
    "X_range = [[i/10] for i in range(-10, 41)]\n",
    "X_range_poly = poly.transform(X_range)\n",
    "y_range_pred = model_poly.predict(X_range_poly)\n",
    "plot = sns.lineplot(x=[x[0] for x in X_range], y=y_range_pred, color=\"red\", label=\"Regresión polinomial\")\n",
    "\n",
    "plot.set_xlabel(\"Sector1Time\")\n",
    "plot.set_ylabel(\"LapTime\")\n",
    "plot.set_title(\"Ajuste del modelo a los datos\")\n",
    "plt.show()"
   ]
  },
  {
   "cell_type": "markdown",
   "metadata": {},
   "source": [
    "<div class=\"alert alert-block alert-info\">\n",
    "    <b>Ejercicio:</b> Entrena evalúa y dibuja un modelo de <i>Regresión polinomial</i> (<code>model_poli_2</code>) de grado 10. Crea nuevas variables para evitar sobrescribir el modelo anterior.\n",
    "</div>"
   ]
  },
  {
   "cell_type": "code",
   "execution_count": null,
   "metadata": {},
   "outputs": [],
   "source": [
    "# Tu código aquí"
   ]
  },
  {
   "cell_type": "markdown",
   "metadata": {},
   "source": [
    "Como ves, si intentamos crear un modelo que se ajuste muy bien a los datos de entrenamiento caemos en el llamado **sobreajuste** u overfitting."
   ]
  },
  {
   "cell_type": "markdown",
   "metadata": {},
   "source": [
    "<div class=\"alert alert-block alert-info\">\n",
    "    <b>Ejercicio:</b> Entrena y evalúa los modelos restantes (<i>K-Nearest Neighbors</i>, <i>Árboles de decisión</i> y <i>SVR</i>) utilizando la siguiente función.\n",
    "</div>"
   ]
  },
  {
   "cell_type": "code",
   "execution_count": null,
   "metadata": {},
   "outputs": [],
   "source": [
    "def evaluate_model(model, X_train, Y_train, X_test, Y_test, model_name):\n",
    "    mae_train = mean_absolute_error(Y_train, model.predict(X_train))\n",
    "    mse_train = mean_squared_error(Y_train, model.predict(X_train))\n",
    "    r2_train = r2_score(Y_train, model.predict(X_train))\n",
    "    mae_test = mean_absolute_error(Y_test, model.predict(X_test))\n",
    "    mse_test = mean_squared_error(Y_test, model.predict(X_test))\n",
    "    r2_test = r2_score(Y_test, model.predict(X_test))\n",
    "    results = [model_name, mae_train, mse_train, r2_train, mae_test, mse_test, r2_test]\n",
    "    return results\n",
    "\n",
    "all_results = []\n",
    "\n",
    "# Baseline\n",
    "results_base = evaluate_model(baseline_media, X_train, Y_train, X_test, Y_test, \"Baseline\")\n",
    "all_results.append(results_base)\n",
    "\n",
    "# Lineal \n",
    "results_lineal = evaluate_model(model_linear, X_train, Y_train, X_test, Y_test, \"Lineal\")\n",
    "all_results.append(results_lineal)\n",
    "\n",
    "# Polinomial\n",
    "results_poly = evaluate_model(model_poly, X_train_poly, Y_train, X_test_poly, Y_test, \"Polinomial (3)\")\n",
    "all_results.append(results_poly)\n",
    "\n",
    "# Tu código aquí\n",
    "# Los modelos anteriores ya están entrenados, recuerda entrenar los nuevos antes de pasarlos a la función\n",
    "\n",
    "# KNN\n",
    "\n",
    "# Árboles\n",
    "\n",
    "# SVR\n",
    "\n",
    "# Imprimir el dataframe resultante\n",
    "multi_index = pd.MultiIndex.from_tuples([ (\"Modelo\", \"Nombre\"), (\"Train\", \"MAE\"), (\"Train\", \"MSE\"), (\"Train\", \"R^2\"), (\"Test\", \"MAE\"), (\"Test\", \"MSE\"), (\"Test\", \"R^2\")])    \n",
    "all_results = pd.DataFrame(all_results, columns=multi_index)\n",
    "all_results"
   ]
  },
  {
   "cell_type": "markdown",
   "metadata": {},
   "source": [
    "<hr>\n",
    "\n",
    "## **3. Ejercicio 2**\n",
    "\n",
    "Se nos solicita realizar la siguiente tarea:\n",
    "\n",
    "<div class=\"alert alert-block alert-info\">\n",
    "    <b>Ejercicio:</b> Crea un modelo capaz de predecir, a partir de <i>LapTime</i> a parir de <i>SpeedI1</i>, <i>SpeedI2</i>, <i>SpeedFL</i>, <i>SpeedST</i> y <i>TyreLife</i>. ¿Cuál es el modelo con mejores resultados?\n",
    "</div>"
   ]
  },
  {
   "cell_type": "code",
   "execution_count": null,
   "metadata": {},
   "outputs": [],
   "source": [
    "# Tu código aquí"
   ]
  }
 ],
 "metadata": {
  "kernelspec": {
   "display_name": "SSII",
   "language": "python",
   "name": "python3"
  },
  "language_info": {
   "codemirror_mode": {
    "name": "ipython",
    "version": 3
   },
   "file_extension": ".py",
   "mimetype": "text/x-python",
   "name": "python",
   "nbconvert_exporter": "python",
   "pygments_lexer": "ipython3",
   "version": "3.10.16"
  }
 },
 "nbformat": 4,
 "nbformat_minor": 2
}
