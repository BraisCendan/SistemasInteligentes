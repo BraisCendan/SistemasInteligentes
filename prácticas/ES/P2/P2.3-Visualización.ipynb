{
 "cells": [
  {
   "cell_type": "markdown",
   "metadata": {},
   "source": [
    "# **Práctica 2.3: Visualización**\n",
    "\n",
    "<hr>\n",
    "\n",
    "## **1. Objetivo**\n",
    "En esta práctica utilizaremos el conjunto generado en la práctica anterior y visualizaremos diversos datos a fin de extraer conocimiento. \n",
    "\n",
    "Para ello necesitaremos instalar nuevas librerías en nuestro environment conda.\n",
    "\n",
    "\n",
    "##### **Matplotlib**\n",
    "\n",
    "Librería que permite realizar una gran variedad de gráficos, entre los que se encuentran:\n",
    "\n",
    "* Histogramas.\n",
    "* Gráficos de dispersión.\n",
    "* Gráficos de barras.\n",
    "* Mapas de calor.\n",
    "* Etc.\n",
    "\n",
    "Posee múltiples opciones de personalización.  \n",
    "Una vez generados, los graficos pueden ser exportados en numerosos formatos (jpg, png, pdf...)\n",
    "\n",
    "Ejemplo: https://matplotlib.org/gallery/lines_bars_and_markers/scatter_demo2.html#sphx-glr-gallery-lines-bars-and-markers-scatter-demo2-py\n",
    "\n",
    "*Para instalarla:*\n"
   ]
  },
  {
   "cell_type": "code",
   "execution_count": null,
   "metadata": {},
   "outputs": [],
   "source": [
    "! pip install matplotlib"
   ]
  },
  {
   "cell_type": "markdown",
   "metadata": {},
   "source": [
    "##### **Seaborn**\n",
    "\n",
    "Basada en Matplotlib, esta librería actúa como interfaz de alto nivel sobre la anterior.  \n",
    "De esta forma simplifica en gran medida las operaciones más comunes.  \n",
    "Tambien añade gráficos nuevos.\n",
    "\n",
    "Ejemplo: https://seaborn.pydata.org/examples/scatter_bubbles.html\n",
    "\n",
    "*Para instalarla:*"
   ]
  },
  {
   "cell_type": "code",
   "execution_count": null,
   "metadata": {},
   "outputs": [],
   "source": [
    "! pip install seaborn"
   ]
  },
  {
   "cell_type": "markdown",
   "metadata": {},
   "source": [
    "##### **Bokeh**\n",
    "\n",
    "A diferencia de las anteriores, Bokeh permite generar gráficos interactivos.  \n",
    "Gracias a esto, podremos modificar el gráfico una vez realizado.\n",
    "\n",
    "Ejemplo: https://demo.bokeh.org/crossfilter\n",
    "\n",
    "*Para instalarla:*"
   ]
  },
  {
   "cell_type": "code",
   "execution_count": null,
   "metadata": {},
   "outputs": [],
   "source": [
    "! pip install bokeh"
   ]
  },
  {
   "cell_type": "markdown",
   "metadata": {},
   "source": [
    "<hr>\n",
    "\n",
    "## **2. Visualización de datos**\n",
    "\n",
    "Lo primero que tendremos que hacer será cargar los datos de la práctica anterior."
   ]
  },
  {
   "cell_type": "code",
   "execution_count": null,
   "metadata": {},
   "outputs": [],
   "source": [
    "import pandas as pd\n",
    "data = pd.read_pickle(\"f1_23_monaco.pkl\")"
   ]
  },
  {
   "cell_type": "markdown",
   "metadata": {},
   "source": [
    "<div class=\"alert alert-block alert-info\">\n",
    "    <b>Ejercicio:</b> Verifica que los tipos de datos son los correctos.\n",
    "</div>"
   ]
  },
  {
   "cell_type": "code",
   "execution_count": null,
   "metadata": {},
   "outputs": [],
   "source": [
    "# Tu código aquí"
   ]
  },
  {
   "cell_type": "markdown",
   "metadata": {},
   "source": [
    "### **2.1. Visualización estática**\n",
    "Comenzaremos con la visualización estática, la cual no permite manipular el gráfico una vez generado.\n",
    "\n",
    "Primero cargaremos las librerías y fijaremos unas variables que se utilizarán a lo largo de la práctica.\n"
   ]
  },
  {
   "cell_type": "code",
   "execution_count": null,
   "metadata": {},
   "outputs": [],
   "source": [
    "import matplotlib.pyplot as plt\n",
    "import seaborn as sns\n",
    "sns.set_style(\"whitegrid\") # Establece el estilo de los gráficos\n",
    "import bokeh as bk\n",
    "\n",
    "# Tamaño de los gráficos\n",
    "fig_size=(12,6) \n",
    "# Diccionario de colores para cada equipo, piloto y neumático\n",
    "team_colors = {'Red Bull Racing': '#1E41FF', 'Alpine': '#2293D1', 'Aston Martin': '#006F62', 'Ferrari': '#DC0000', 'Williams': '#005AFF', 'Haas F1 Team': '#787878', 'AlphaTauri': '#2B4562', 'Alfa Romeo': '#900000', 'McLaren': '#FF8700', 'Mercedes': '#6CD3BF'}\n",
    "driver_colors = {'VER': '#1E41FF', 'GAS': '#2293D1', 'PER': '#1E41FF', 'ALO': '#006F62', 'LEC': '#DC0000', 'STR': '#006F62', 'SAR': '#005AFF', 'MAG': '#787878', 'DEV': '#2B4562', 'TSU': '#2B4562', 'ALB': '#005AFF', 'ZHO': '#900000', 'HUL': '#787878', 'OCO': '#2293D1', 'NOR': '#FF8700', 'HAM': '#6CD3BF', 'SAI': '#DC0000', 'RUS': '#6CD3BF', 'BOT': '#900000', 'PIA': '#FF8700'}\n",
    "tire_colors = { 'SOFT': '#FF0000', 'HARD': '#cccccc', 'MEDIUM': '#FFD700', 'INTERMEDIATE': '#00A550', 'WET': '#005AFF' }"
   ]
  },
  {
   "cell_type": "markdown",
   "metadata": {},
   "source": [
    "#### **Distribuciones**\n",
    "\n",
    "Las distribuciones se obtienen con el objetivo de mostrar los posibles valores que puede poseer una variable concreta. Además podemos ver la frecuencia de los mismos.\n",
    "\n",
    "_Para una variable:_\n",
    "* Histograma : `sns.histplot` o `sns.countplot`\n",
    "* KDE (Kernel Density Estimate): `sns.kdeplot`\n",
    "\n",
    "El KDE es una versión suavizada de un histograma donde el eje y muestra qué tan probable es encontrar un valor en cada punto, en lugar de solo contar cuántos datos hay en cada intervalo.\n",
    "\n",
    "_Para varias variables:_\n",
    "* KDE2D: `sns.jointplot`"
   ]
  },
  {
   "cell_type": "markdown",
   "metadata": {},
   "source": [
    "**Histograma de la columna \"SpeedI1\".**"
   ]
  },
  {
   "cell_type": "code",
   "execution_count": null,
   "metadata": {},
   "outputs": [],
   "source": [
    "plt.figure(figsize=fig_size); # Tamaño del plot\n",
    "histo = sns.histplot(data=data['SpeedI1'], kde=False, bins=range(90,220,5));\n",
    "histo.set_xticks(range(90,220,5)); # Etiquetas del eje X\n",
    "histo.set_xlabel(\"SpeedI1\")\n",
    "histo.set_ylabel(\"Número de vueltas\")\n",
    "histo.set_title(\"Histograma de la variable 'SpeedI1'\")"
   ]
  },
  {
   "cell_type": "markdown",
   "metadata": {},
   "source": [
    "**Otra notación para lo anterior**"
   ]
  },
  {
   "cell_type": "code",
   "execution_count": null,
   "metadata": {},
   "outputs": [],
   "source": [
    "# Otra notación\n",
    "plt.figure(figsize=fig_size);\n",
    "histo = sns.histplot(data=data, x=\"SpeedI1\", kde=False, bins=range(90,220,5));\n",
    "histo.set_xticks(range(90,220,5));\n",
    "histo.set_xlabel(\"SpeedI1\")\n",
    "histo.set_ylabel(\"Número de vueltas\")\n",
    "histo.set_title(\"Histograma de la variable 'SpeedI1'\")"
   ]
  },
  {
   "cell_type": "markdown",
   "metadata": {},
   "source": [
    "**Histograma del número de vueltas por equipo**\n",
    "\n",
    "Equipo, como sabrás, es una variable categórica, por eso utilizamos countplot."
   ]
  },
  {
   "cell_type": "code",
   "execution_count": null,
   "metadata": {},
   "outputs": [],
   "source": [
    "plt.figure(figsize=fig_size); # Tamaño del plot\n",
    "histo = sns.countplot(x=data['Team'], hue=data[\"Team\"], palette=team_colors);\n",
    "histo.set_xlabel(\"Equipo\")\n",
    "histo.set_ylabel(\"Número de vueltas\")\n",
    "histo.set_title(\"Histograma de la variable 'Team'\")"
   ]
  },
  {
   "cell_type": "markdown",
   "metadata": {},
   "source": [
    "**KDE de la velocidad en la línea de meta de los pilotos: ALO, VER, LEC y NOR**"
   ]
  },
  {
   "cell_type": "code",
   "execution_count": null,
   "metadata": {},
   "outputs": [],
   "source": [
    "filtered_drivers = data.loc[data[\"Driver\"].isin([\"ALO\", \"VER\", \"LEC\", \"NOR\"])]\n",
    "\n",
    "plt.figure(figsize=fig_size)\n",
    "histo = sns.kdeplot(data=filtered_drivers, x=filtered_drivers[\"SpeedFL\"])\n",
    "histo.set_xlabel(\"Tiempo por vuelta (segundos)\")\n",
    "histo.set_ylabel(\"Densidad\")\n",
    "histo.set_title(\"KDE de la variable 'LapTime'\")\n",
    "plt.show()"
   ]
  },
  {
   "cell_type": "markdown",
   "metadata": {},
   "source": [
    "**KDE (separado por piloto) de la velocidad en la línea de meta de los pilotos: ALO, VER, LEC y NOR**"
   ]
  },
  {
   "cell_type": "code",
   "execution_count": null,
   "metadata": {},
   "outputs": [],
   "source": [
    "plt.figure(figsize=fig_size)\n",
    "histo = sns.kdeplot(data=filtered_drivers, x=filtered_drivers[\"SpeedFL\"], hue=\"Driver\", palette=driver_colors, fill=True)\n",
    "histo.set_xlabel(\"Tiempo por vuelta (segundos)\")\n",
    "histo.set_ylabel(\"Densidad\")\n",
    "histo.set_title(\"KDE de la variable 'LapTime'\")\n",
    "plt.show()"
   ]
  },
  {
   "cell_type": "markdown",
   "metadata": {},
   "source": [
    "**KDE 2D (separado por piloto) del tiempo en el primer sector frente al del tercero de ALO, VER, LEC y NOR para las primeras 30 vueltas**"
   ]
  },
  {
   "cell_type": "code",
   "execution_count": null,
   "metadata": {},
   "outputs": [],
   "source": [
    "filtered_drivers = data.loc[(data[\"LapNumber\"]<=30)&(data[\"Driver\"].isin([\"VER\", \"ALO\", \"NOR\"]))]\n",
    "histo = sns.jointplot(data=filtered_drivers, x=filtered_drivers[\"Sector3Time\"].dt.total_seconds(), y=filtered_drivers[\"Sector1Time\"].dt.total_seconds(), hue=\"Driver\", palette=driver_colors)\n",
    "plt.show()"
   ]
  },
  {
   "cell_type": "markdown",
   "metadata": {},
   "source": [
    "<div class=\"alert alert-block alert-info\">\n",
    "    <b>Ejercicio:</b> Crea un gráfico con el número de vueltas realizadas con cada tipo de neumático. Utiliza la variable \"tire_colors\" ya creada.\n",
    "</div>"
   ]
  },
  {
   "cell_type": "code",
   "execution_count": null,
   "metadata": {},
   "outputs": [],
   "source": [
    "# Tu código aquí"
   ]
  },
  {
   "cell_type": "markdown",
   "metadata": {},
   "source": [
    "<div class=\"alert alert-block alert-info\">\n",
    "    <b>Ejercicio:</b> Crea un gráfico con las posiciones por las que ha pasado Kevin Magnussen (MAG). Ha de reflejar cuantas vueltas ha estado en cada una de las 20 posiciones. Han de aparecer todas las posibles posiciones en el eje x.\n",
    "</div>"
   ]
  },
  {
   "cell_type": "code",
   "execution_count": null,
   "metadata": {},
   "outputs": [],
   "source": [
    "# Tu código aquí"
   ]
  },
  {
   "cell_type": "markdown",
   "metadata": {},
   "source": [
    "#### **Relaciones**\n",
    "\n",
    "Existen múltiples tipos de gráficos para representar la relación entre variables (2 típicamente).\n",
    "\n",
    "_Para 2 variables:_\n",
    "* Barras : `sns.barplot`\n",
    "* Linea : `sns.lineplot`\n",
    "* Dispersión: `sns.scatterplot`\n",
    "* Linea de regresión: `sns.regplot`\n",
    "\n",
    "_Para más variables:_\n",
    "* Color y tamaño para representar más información.\n",
    "* Por pares : `sns.lineplot`\n",
    "* Visualización 3D: `mpl_toolkits.mplot3d`\n",
    "* Reducir a 2 variables:\n",
    "  * PCA (Principal Component Analysis): `sklearn.decomposition.PCA`\n",
    "  * TSNE (T-distributed Stochastic Neighbor Embedding) : `sklearn.manifold.TSNE`"
   ]
  },
  {
   "cell_type": "markdown",
   "metadata": {},
   "source": [
    "**Gráfico de barras: Relación entre tiempo por vuelta y posición.**"
   ]
  },
  {
   "cell_type": "code",
   "execution_count": null,
   "metadata": {},
   "outputs": [],
   "source": [
    "plt.figure(figsize=fig_size); # Tamaño del plot\n",
    "the_plot = sns.barplot(data=data, x='Position', y=data[\"LapTime\"].dt.total_seconds())\n",
    "the_plot.set_xlabel(\"Posición\")\n",
    "the_plot.set_ylabel(\"Tiempo por vuelta (s)\")\n",
    "the_plot.set_title(\"Relación entre Tiempo por vuelta y Posición\")"
   ]
  },
  {
   "cell_type": "markdown",
   "metadata": {},
   "source": [
    "**Gráfico de barras: Tiempo medio por vuelta para cada neumático.**"
   ]
  },
  {
   "cell_type": "code",
   "execution_count": null,
   "metadata": {},
   "outputs": [],
   "source": [
    "plt.figure(figsize=fig_size); # Tamaño del plot\n",
    "the_plot = sns.barplot(data=data, x='Compound', y=data[\"LapTime\"].dt.total_seconds(), hue=\"Compound\", palette=tire_colors)\n",
    "the_plot.set_xlabel(\"Posición\")\n",
    "the_plot.set_ylabel(\"Tiempo por vuelta (s)\")\n",
    "the_plot.set_title(\"Relación entre Tiempo por vuelta y Posición\")"
   ]
  },
  {
   "cell_type": "markdown",
   "metadata": {},
   "source": [
    "**Gráfico de linea: Relación entre tiempo por vuelta y número de vuelta.**"
   ]
  },
  {
   "cell_type": "code",
   "execution_count": null,
   "metadata": {},
   "outputs": [],
   "source": [
    "plt.figure(figsize=fig_size); # Tamaño del plot\n",
    "the_plot = sns.lineplot(data=data, x='LapNumber', y=data[\"LapTime\"].dt.total_seconds())\n",
    "the_plot.set_xlabel(\"Vuelta\")\n",
    "the_plot.set_ylabel(\"Tiempo por vuelta (s)\")\n",
    "the_plot.set_title(\"Relación entre Tiempo por vuelta y Vuelta\")"
   ]
  },
  {
   "cell_type": "markdown",
   "metadata": {},
   "source": [
    "**Gráfico de dispersión: Relación entre los tiempos del segundo sector y la velocidad en el segundo punto de detección en función del neumático.**"
   ]
  },
  {
   "cell_type": "code",
   "execution_count": null,
   "metadata": {},
   "outputs": [],
   "source": [
    "plt.figure(figsize=fig_size); # Tamaño del plot\n",
    "the_plot = sns.scatterplot(data=data, x='Sector2Time', y='SpeedI2', hue=\"Compound\", palette=tire_colors);\n",
    "the_plot.set_ylabel(\"Velocidad segundo punto\")\n",
    "the_plot.set_xlabel(\"Tiempo segundo sector (s)\")\n",
    "the_plot.set_title(\"Relación entre el tiempo en el segundo sector y la velocidad segundo punto\")"
   ]
  },
  {
   "cell_type": "markdown",
   "metadata": {},
   "source": [
    "**Añadiendo línea de tendencia anterior**\n",
    "\n",
    "El gráfico adecuado es el \"regplot\". Este no soporta el parámetro \"hue\"."
   ]
  },
  {
   "cell_type": "code",
   "execution_count": null,
   "metadata": {},
   "outputs": [],
   "source": [
    "plt.figure(figsize=fig_size); # Tamaño del plot\n",
    "the_plot = sns.regplot(data=data, x=data['Sector2Time'].dt.total_seconds(), y='SpeedI2', line_kws={'color':'red'});\n",
    "the_plot.set_ylabel(\"Velocidad segundo punto\")\n",
    "the_plot.set_xlabel(\"Tiempo segundo sector (s)\")\n",
    "the_plot.set_title(\"Relación entre el tiempo en el segundo sector y la velocidad segundo punto\")"
   ]
  },
  {
   "cell_type": "markdown",
   "metadata": {},
   "source": [
    "<div class=\"alert alert-block alert-info\">\n",
    "    <b>Ejercicio:</b> Obtén el gráfico anterior para las vueltas después de la 55.\n",
    "</div>"
   ]
  },
  {
   "cell_type": "code",
   "execution_count": null,
   "metadata": {},
   "outputs": [],
   "source": [
    "# Tu código aquí"
   ]
  },
  {
   "cell_type": "markdown",
   "metadata": {},
   "source": [
    "<div class=\"alert alert-block alert-info\">\n",
    "    <b>Ejercicio:</b> Crea un gráfico con el tiempo por vuelta medio (máximo y mínimo) para cada piloto.\n",
    "</div>"
   ]
  },
  {
   "cell_type": "code",
   "execution_count": null,
   "metadata": {},
   "outputs": [],
   "source": [
    "# Tu código aquí"
   ]
  },
  {
   "cell_type": "markdown",
   "metadata": {},
   "source": [
    "#### **Relaciones: *Múltiples variables***"
   ]
  },
  {
   "cell_type": "markdown",
   "metadata": {},
   "source": [
    "**Color y forma para representar más información.**"
   ]
  },
  {
   "cell_type": "code",
   "execution_count": null,
   "metadata": {},
   "outputs": [],
   "source": [
    "plt.figure(figsize=fig_size); # Tamaño del plot\n",
    "plt_data = data.loc[data.Driver.isin([\"ALO\", \"BOT\", \"PIA\"])]\n",
    "the_plot = sns.scatterplot(data=plt_data, x='Sector2Time', y='Sector3Time', hue='Driver', style=\"Compound\", palette=driver_colors)\n",
    "the_plot.set_xlabel(\"Tiempo sector 2\")\n",
    "the_plot.set_ylabel(\"Tiempo sector 3\")\n",
    "the_plot.set_title(\"Relación entre tiempos de sectores 3 y 2\")"
   ]
  },
  {
   "cell_type": "markdown",
   "metadata": {},
   "source": [
    "**Por pares: Relación entre \"SpeedI1\",\"SpeedI2\",\"SpeedFL\".**"
   ]
  },
  {
   "cell_type": "code",
   "execution_count": null,
   "metadata": {},
   "outputs": [],
   "source": [
    "plt.figure(figsize=fig_size); # Tamaño del plot\n",
    "plt_data = data.loc[data.Driver.isin([\"ALO\", \"BOT\", \"PIA\"])]\n",
    "the_plot = sns.pairplot(data=plt_data, vars=[\"SpeedI1\",\"SpeedI2\",\"SpeedFL\"], hue=\"Driver\")"
   ]
  },
  {
   "cell_type": "markdown",
   "metadata": {},
   "source": [
    "**Dispersión en 3D. Es necesario utilizar la librería matplotlib.**"
   ]
  },
  {
   "cell_type": "code",
   "execution_count": null,
   "metadata": {},
   "outputs": [],
   "source": [
    "from mpl_toolkits import mplot3d # Importar la parte 3D de la librería matplotlib\n",
    "\n",
    "plt_data = data.loc[data.Driver.isin([\"ALO\", \"BOT\", \"PIA\"])]\n",
    "plt.figure(figsize=(10,12)); # Tamaño del plot\n",
    "ax = plt.axes(projection='3d') # Indicar el tipo de gráfico\n",
    "ax.scatter3D(plt_data[\"SpeedI1\"], plt_data[\"SpeedI2\"], plt_data[\"SpeedFL\"], c=plt_data[\"Driver\"].apply(lambda x: driver_colors[x]))\n",
    "plt.xlabel(\"SpeedI1\")\n",
    "plt.ylabel(\"SpeedI2\")\n",
    "ax.set_zlabel(\"SpeedFL\")\n",
    "\n",
    "plt.title(\"Gráfico de dispersión en 3D\")"
   ]
  },
  {
   "cell_type": "markdown",
   "metadata": {},
   "source": [
    "#### **Relaciones: *Múltiples variables con reducción dimensionalidad***\n",
    "\n",
    "Cuando trabajamos con datos que tienen muchas dimensiones (más de 2) es difícil visualizarlos directamente. Para entender su estructura y encontrar patrones, necesitamos reducir la cantidad de dimensiones sin perder demasiada información. El PCA y el t-SNE son dos métodos que nos ayudan a visualizar datos con muchas dimensiones reduciéndolos a 2D o 3D.\n",
    "\n",
    "Para utilizar estos métodos necesitamos instalar previamente la librería scikit-learn:\n"
   ]
  },
  {
   "cell_type": "code",
   "execution_count": null,
   "metadata": {},
   "outputs": [],
   "source": [
    "! pip install scikit-learn"
   ]
  },
  {
   "cell_type": "markdown",
   "metadata": {},
   "source": [
    "**PCA: Visualizar las vueltas de 3 pilotos en función de 6 variables: el tiempo en cada uno de los 3 sectores y la velocidades máximas.**"
   ]
  },
  {
   "cell_type": "code",
   "execution_count": null,
   "metadata": {},
   "outputs": [],
   "source": [
    "from sklearn.decomposition import PCA # Importar PCA\n",
    "\n",
    "filtered_data = data.loc[data.Driver.isin([\"ALO\", \"BOT\", \"PIA\"])].copy() # Mejor hacer una copia si se va a modificar posteriormente\n",
    "# Vamos a pasar de timedelta a float los tiempos de los sectores\n",
    "filtered_data[[\"Sector1Time\", \"Sector2Time\", \"Sector3Time\"]] = filtered_data[[\"Sector1Time\", \"Sector2Time\", \"Sector3Time\"]].apply(lambda x: x.dt.total_seconds())\n",
    "# Seleccionar las columnas que se quieren representar\n",
    "data_6D = filtered_data[[\"Sector1Time\", \"Sector2Time\", \"Sector3Time\", \"SpeedI2\", \"SpeedFL\", \"SpeedST\"]] \n",
    "\n",
    "pca = PCA(n_components=2, random_state=10) # Configuración para reducir a 2 dimensiones y fijar la semilla.\n",
    "new_2D_data = pca.fit_transform(data_6D.values) # Transformar nuestros datos a 2 dimensiones\n",
    "\n",
    "plt.figure(figsize=fig_size); # Tamaño del plot\n",
    "the_plot = sns.scatterplot(x=new_2D_data[:,0], y=new_2D_data[:,1], hue=filtered_data[\"Driver\"], palette=driver_colors); # Hacer gráfico de dispersión\n",
    "the_plot.set_xlabel(\"Nueva dimensión X\")\n",
    "the_plot.set_ylabel(\"Nueva dimensión Y\")\n",
    "the_plot.set_title(\"Reducción de dimensiones mediante PCA\")"
   ]
  },
  {
   "cell_type": "markdown",
   "metadata": {},
   "source": [
    "**t-SNE: Visualizar las vueltas de 3 pilotos en función de 6 variables: el tiempo en cada uno de los 3 sectores y la velocidades máximas.**"
   ]
  },
  {
   "cell_type": "code",
   "execution_count": null,
   "metadata": {},
   "outputs": [],
   "source": [
    "from sklearn.manifold import TSNE # Importar tSNE\n",
    "\n",
    "tsne = TSNE(n_components=2, random_state=10) # Configuración para reducir a 2 dimensiones y fijar la semilla.\n",
    "new_2D_data = tsne.fit_transform(data_6D.values) # Transformar nuestros datos a 2 dimensiones\n",
    "\n",
    "\n",
    "plt.figure(figsize=fig_size); # Tamaño del plot\n",
    "the_plot = sns.scatterplot(x=new_2D_data[:,0], y=new_2D_data[:,1], hue=filtered_data[\"Driver\"], palette=driver_colors); # Hacer gráfico de dispersión\n",
    "the_plot.set_xlabel(\"Nueva dimensión X\")\n",
    "the_plot.set_ylabel(\"Nueva dimensión Y\")\n",
    "the_plot.set_title(\"Reducción de dimensiones mediante t-SNE\")"
   ]
  },
  {
   "cell_type": "markdown",
   "metadata": {},
   "source": [
    "<div class=\"alert alert-block alert-info\">\n",
    "    <b>Ejercicio:</b> Modifica el gráfico anterior para que se coloree cada punto en función del neumático y no del piloto.\n",
    "</div>"
   ]
  },
  {
   "cell_type": "code",
   "execution_count": null,
   "metadata": {},
   "outputs": [],
   "source": [
    "# Tu código aquí"
   ]
  },
  {
   "cell_type": "markdown",
   "metadata": {},
   "source": [
    "### **2.2. Visualización dinámica**\n",
    "En este último apartado haremos uso de la librería Bokeh.\n",
    "\n",
    "Esta librería genera código html en vez de generar una imágen estática."
   ]
  },
  {
   "cell_type": "code",
   "execution_count": null,
   "metadata": {},
   "outputs": [],
   "source": [
    "from bokeh.plotting import figure, show, ColumnDataSource\n",
    "from bokeh.io import output_notebook\n",
    "\n",
    "output_notebook() # Configurar Bokeh"
   ]
  },
  {
   "cell_type": "code",
   "execution_count": null,
   "metadata": {},
   "outputs": [],
   "source": [
    "# Crear un objeto ColumnDataSource que contenga todos los datos relevantes para el gráfico\n",
    "source = ColumnDataSource(data=dict(\n",
    "    x= new_2D_data[:,0],\n",
    "    y= new_2D_data[:,1],\n",
    "    driver=filtered_data[\"Driver\"],\n",
    "    color=filtered_data[\"Driver\"].apply(lambda x: driver_colors[x]),\n",
    "    lap_time = filtered_data[\"LapTime\"].dt.total_seconds(),\n",
    "    lap_number = filtered_data[\"LapNumber\"],\n",
    "    compound = filtered_data[\"Compound\"],\n",
    "    tire_life = filtered_data[\"TyreLife\"],\n",
    "    )\n",
    ")\n",
    "\n",
    "# Personalizar la información que queremos que se muestre al posar el ratón\n",
    "TOOLTIPS = \"\"\"\n",
    "    <div>\n",
    "        <div style=\"padding-right:5px;padding-left:5px\">\n",
    "            <span style=\"font-size: 20px; color: @color;\"><strong>@driver</strong></span>\n",
    "            <ul style=\"font-size: 15px; margin-left:-20px; margin-top:0px\">\n",
    "                <li><strong>Lap: </strong>@lap_number</li>\n",
    "                <li><strong>Tire: </strong>@compound</li>\n",
    "                <li><strong>Lap Time: </strong>@lap_time</li>\n",
    "                <li><strong>Tyre life: </strong>@tire_life</li>\n",
    "            </ul>\n",
    "        </div>\n",
    "    </div>\n",
    "\"\"\"\n",
    "\n",
    "# Hacer el gráfico\n",
    "p = figure(width=1000, height=600,tooltips=TOOLTIPS)\n",
    "p.scatter(source = source, x=\"x\", y=\"y\",fill_color=\"color\",line_color=None, size=7)\n",
    "show(p)"
   ]
  },
  {
   "cell_type": "markdown",
   "metadata": {},
   "source": [
    "<div class=\"alert alert-block alert-info\">\n",
    "    <b>Ejercicio:</b> Modifica el gráfico anterior para que se coloree cada punto en función del neumático y no del piloto.\n",
    "</div>"
   ]
  },
  {
   "cell_type": "code",
   "execution_count": null,
   "metadata": {},
   "outputs": [],
   "source": [
    "# Tu código aquí"
   ]
  }
 ],
 "metadata": {
  "kernelspec": {
   "display_name": "SSII",
   "language": "python",
   "name": "python3"
  },
  "language_info": {
   "codemirror_mode": {
    "name": "ipython",
    "version": 3
   },
   "file_extension": ".py",
   "mimetype": "text/x-python",
   "name": "python",
   "nbconvert_exporter": "python",
   "pygments_lexer": "ipython3",
   "version": "3.10.16"
  }
 },
 "nbformat": 4,
 "nbformat_minor": 2
}
