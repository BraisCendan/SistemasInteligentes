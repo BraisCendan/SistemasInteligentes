{
 "cells": [
  {
   "cell_type": "markdown",
   "metadata": {},
   "source": [
    "# **Práctica 2.1: Introducción**\n",
    "\n",
    "<hr>\n",
    "\n",
    "## **1. Objetivo**\n",
    "En esta práctica aprenderás a configurar tu entorno de trabajo para la asignatura utilizando **Visual Studio Code**, **Jupyter Notebook** y **Conda**. \n",
    "\n",
    "\n",
    "### ¿Qué es Visual Studio Code?\n",
    "**Visual Studio Code** (VS Code) es un editor de código fuente desarrollado por Microsoft. Es gratuito, de código abierto, multiplataforma y es conocido por su ligereza y rapidez. Además es altamente personalizable gracias a su amplia gama de extensiones. Nosotros lo personalizaremos para ejecutar **Python** y **Notebooks Jupyter**.\n",
    "\n",
    "### ¿Qué es Jupyter Notebook?\n",
    "**Jupyter Notebook** es una herramienta interactiva que permite crear y compartir documentos que contienen código ejecutable, texto explicativo, ecuaciones, visualizaciones y más. Es ideal para el aprendizaje, la experimentación y el desarrollo de proyectos en inteligencia artificial y ciencia de datos.\n",
    "\n",
    "#### Ventajas de Jupyter Notebook\n",
    "- Integración de código y texto explicativo en un único documento.\n",
    "- Visualización interactiva de datos.\n",
    "- Fácil de compartir y reproducir.\n",
    "\n",
    "### ¿Qué es Conda?\n",
    "**Conda** es un gestor de paquetes y entornos que facilita la instalación de dependencias y la creación de entornos virtuales aislados. Esto te permite:\n",
    "- Evitar conflictos entre paquetes.\n",
    "- Mantener tus proyectos organizados y con configuraciones específicas."
   ]
  },
  {
   "cell_type": "markdown",
   "metadata": {},
   "source": [
    "<hr>\n",
    "\n",
    "## **2. Configurar el entorno**\n",
    "\n",
    "### Instalar extensiones en Visual Studio Code\n",
    "Para trabajar con Python y Jupyter en VSCode, necesitas instalar sus extensiones. Aquí tienes los pasos para hacerlo:\n",
    "\n",
    "Asumiendo que ya tienes abierto VSCode:\n",
    "1. Haz clic en el icono de extensiones en la barra lateral izquierda.\n",
    "2. En la barra de búsqueda, escribe \"Python\" y selecciona la extensión desarrollada por Microsoft.\n",
    "3. Haz clic en el botón de \"Instalar\" para añadir la extensión a tu VS Code.\n",
    "4. Realiza el mismo procedimiento para \"Jupyter\"\n",
    "\n",
    "### Crear un entorno virtual con Conda\n",
    "En los ordenadores de prácticas de la universidad ya está instalado **Anaconda** y **Python**, por lo que no es necesario instalar nada. \n",
    "\n",
    "Para trabajar en estos ordenadores:\n",
    "1. Abre el menú de inicio de Windows.\n",
    "2. Busca y ejecuta la aplicación **Anaconda Prompt** (Consola de Anaconda).\n",
    "3. Desde esta consola, podrás activar el entorno, instalar dependencias y ejecutar Jupyter Notebook.\n",
    "4. En **Anaconda Prompt**, crea un nuevo entorno con: `conda create --name SSII python=3.10`.\n",
    "Esto configurará un entorno llamado `SSII` con Python 3.10.\n",
    "5. Activa el entorno con: `conda activate SSII`.\n",
    "6. Instala una librería: `pip install ipykernel`\n",
    "\n",
    "<div class=\"alert alert-block alert-warning\">\n",
    "    <strong>NOTA:</strong> En tu ordenador personal tendrás que instalar <i>Anaconda</i> si no lo tenías previamente.\n",
    "</div>\n",
    "\n",
    "### Utilizar en entorno en Visual Studio Code\n",
    "Para ejecutar el Notebook en el entorno que acabas de crear desde VSCode tendrás que hacer clic en la esquina superior derecha donde dice _Select Kernel_ y elegir el entorno ``SSII``.\n",
    "\n",
    "### Verificar el entorno\n",
    "Ejecuta el siguiente bloque de código:"
   ]
  },
  {
   "cell_type": "code",
   "execution_count": null,
   "metadata": {},
   "outputs": [],
   "source": [
    "print(\"Funciona!\")"
   ]
  }
 ],
 "metadata": {
  "kernelspec": {
   "display_name": "SSII",
   "language": "python",
   "name": "python3"
  },
  "language_info": {
   "codemirror_mode": {
    "name": "ipython",
    "version": 3
   },
   "file_extension": ".py",
   "mimetype": "text/x-python",
   "name": "python",
   "nbconvert_exporter": "python",
   "pygments_lexer": "ipython3",
   "version": "3.10.16"
  }
 },
 "nbformat": 4,
 "nbformat_minor": 2
}
