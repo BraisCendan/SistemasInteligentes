{
 "cells": [
  {
   "cell_type": "markdown",
   "metadata": {},
   "source": [
    "# **Práctica 2.2: Preprocesado**\n",
    "\n",
    "<hr>\n",
    "\n",
    "## **1. Objetivo**\n",
    "En esta práctica descargaremos un conjunto de datos y lo analizaremos y limpiaremos para utilizar en futuras prácticas. \n",
    "\n",
    "\n",
    "### **Librería Pandas**\n",
    "Se considera la librería más popular de análisis de datos en Python.  \n",
    "Maneja todas sus operaciones mediante un objeto *\"Dataframe\"*.\n",
    "\n",
    "Permite, entre otras operaciones:\n",
    "\n",
    "* Cargar y almacenar datos en diferentes formatos (csv, tsv, xlsx, txt...).\n",
    "* Manipular filas, columnas y celdas.\n",
    "* Filtrar o agrupar contenido.\n",
    "* Realizar la intersección, concatenación o combinación de varios Dataframes\n",
    "\n",
    "Para instalarla:\n"
   ]
  },
  {
   "cell_type": "code",
   "execution_count": null,
   "metadata": {},
   "outputs": [],
   "source": [
    "! pip install pandas"
   ]
  },
  {
   "cell_type": "markdown",
   "metadata": {},
   "source": [
    "<div class=\"alert alert-block alert-warning\">\n",
    "    <strong>NOTA:</strong> La exclamación antes del código indica a Jupyter que este no es Python y ha de ejecutarse en la terminal. Esto nos permite instalar librerías directamente desde el notebook.\n",
    "</div>"
   ]
  },
  {
   "cell_type": "markdown",
   "metadata": {},
   "source": [
    "<hr>\n",
    "\n",
    "## **2. Análisis exploratorio de datos (EDA)**\n",
    "\n",
    "Este análisis tiene como objetivos principales:\n",
    "* Conocer los datos a los que nos vamos a enfrentar.\n",
    "* Limpiar el conjunto de datos:\n",
    "  * Eliminar filas o columnas vacías.\n",
    "  * Eliminar valores incongruentes.\n",
    "\n",
    "Nuestro conjunto de datos contiene información sobre una carrera de la temporada 2023 de Formula 1.  \n",
    "A continuación descargaremos los datos y los analizaremos con la librería Pandas."
   ]
  },
  {
   "cell_type": "code",
   "execution_count": null,
   "metadata": {},
   "outputs": [],
   "source": [
    "import pandas as pd\n",
    "\n",
    "url_data = \"https://raw.githubusercontent.com/AIC-Uniovi/Sistemas-Inteligentes/refs/heads/main/datasets/f1_23_monaco.csv\"\n",
    "data = pd.read_csv(url_data)"
   ]
  },
  {
   "cell_type": "markdown",
   "metadata": {},
   "source": [
    "**Descripción de las columnas del dataset**\n",
    "\n",
    "| Columna               | Descripción |\n",
    "|-----------------------|------------|\n",
    "| `Time`               | Tiempo total transcurrido en la sesión. |\n",
    "| `Driver`             | Código de tres letras del piloto. |\n",
    "| `DriverNumber`       | Número del piloto en la carrera. |\n",
    "| `LapTime`            | Tiempo total de la vuelta. |\n",
    "| `LapNumber`          | Número de la vuelta en la sesión. |\n",
    "| `Stint`              | Número de stint actual (período entre paradas en boxes). |\n",
    "| `PitOutTime`         | Tiempo en el que el piloto salió de boxes. |\n",
    "| `PitInTime`          | Tiempo en el que el piloto entró en boxes. |\n",
    "| `Sector1Time`        | Tiempo registrado en el primer sector de la vuelta. |\n",
    "| `Sector2Time`        | Tiempo registrado en el segundo sector de la vuelta. |\n",
    "| `Sector3Time`        | Tiempo registrado en el tercer sector de la vuelta. |\n",
    "| `SpeedI1`           | Velocidad medida en el primer punto de detección. |\n",
    "| `SpeedI2`           | Velocidad medida en el segundo punto de detección. |\n",
    "| `SpeedFL`           | Velocidad en la línea de meta. |\n",
    "| `SpeedST`           | Velocidad máxima en el sector. |\n",
    "| `IsPersonalBest`    | Indica si la vuelta es la mejor personal del piloto (`True`/`False`). |\n",
    "| `Compound`          | Tipo de compuesto de neumáticos utilizado. |\n",
    "| `TyreLife`         | Número de vueltas que lleva el neumático en uso. |\n",
    "| `FreshTyre`         | Indica si el neumático era nuevo al inicio de la vuelta (`True`/`False`). |\n",
    "| `Team`              | Nombre del equipo del piloto. |\n",
    "| `LapStartTime`      | Tiempo de inicio de la vuelta en la sesión. |\n",
    "| `LapStartDate`      | Fecha y hora exacta del inicio de la vuelta. |\n",
    "| `TrackStatus`       | Estado de la pista en la vuelta (ej. bandera amarilla, verde, etc.). |\n",
    "| `Position`          | Posición del piloto al finalizar la vuelta. |\n",
    "| `Deleted`           | Indica si la vuelta fue eliminada (`True`/`False`). |\n",
    "| `DeletedReason`     | Razón por la que la vuelta fue eliminada (si aplica). |\n",
    "| `IsAccurate`        | Indica si los datos de la vuelta son precisos (`True`/`False`). |"
   ]
  },
  {
   "cell_type": "markdown",
   "metadata": {},
   "source": [
    "### **Operaciones básicas**"
   ]
  },
  {
   "cell_type": "code",
   "execution_count": null,
   "metadata": {},
   "outputs": [],
   "source": [
    "# Nombre de columnas\n",
    "data.columns"
   ]
  },
  {
   "cell_type": "code",
   "execution_count": null,
   "metadata": {},
   "outputs": [],
   "source": [
    "# Tipos de las columnas\n",
    "data.dtypes"
   ]
  },
  {
   "cell_type": "code",
   "execution_count": null,
   "metadata": {},
   "outputs": [],
   "source": [
    "# Número de columnas\n",
    "len(data.columns)"
   ]
  },
  {
   "cell_type": "code",
   "execution_count": null,
   "metadata": {},
   "outputs": [],
   "source": [
    "# Número de filas\n",
    "len(data)"
   ]
  },
  {
   "cell_type": "code",
   "execution_count": null,
   "metadata": {},
   "outputs": [],
   "source": [
    "# Obtener estadisticas básicas de todo el conjunto\n",
    "data.describe()"
   ]
  },
  {
   "cell_type": "code",
   "execution_count": null,
   "metadata": {},
   "outputs": [],
   "source": [
    "# Buscar columnas con valores inexistentes\n",
    "data.isnull().any()"
   ]
  },
  {
   "cell_type": "code",
   "execution_count": null,
   "metadata": {},
   "outputs": [],
   "source": [
    "# Mostrar las 5 primeras filas\n",
    "data.head(5)"
   ]
  },
  {
   "cell_type": "code",
   "execution_count": null,
   "metadata": {},
   "outputs": [],
   "source": [
    "# Mostrar las 5 últimas filas\n",
    "data.tail(5)"
   ]
  },
  {
   "cell_type": "code",
   "execution_count": null,
   "metadata": {},
   "outputs": [],
   "source": [
    "# Acceder a una columna\n",
    "data[\"Driver\"]"
   ]
  },
  {
   "cell_type": "code",
   "execution_count": null,
   "metadata": {},
   "outputs": [],
   "source": [
    "# Obtener múltiples estadisticas de una columna\n",
    "data[\"Stint\"].describe()"
   ]
  },
  {
   "cell_type": "code",
   "execution_count": null,
   "metadata": {},
   "outputs": [],
   "source": [
    "# Operaciones sobre columnas numéricas\n",
    "data[\"LapNumber\"]+1"
   ]
  },
  {
   "cell_type": "code",
   "execution_count": null,
   "metadata": {},
   "outputs": [],
   "source": [
    "# Ver los valores únicos (sin repeticiones) de una columna\n",
    "data[\"Team\"].unique()"
   ]
  },
  {
   "cell_type": "code",
   "execution_count": null,
   "metadata": {},
   "outputs": [],
   "source": [
    "len(data[\"Team\"].unique())"
   ]
  },
  {
   "cell_type": "code",
   "execution_count": null,
   "metadata": {},
   "outputs": [],
   "source": [
    "# Acceder a varias columnas\n",
    "data[[\"Driver\",\"Team\"]]"
   ]
  },
  {
   "cell_type": "code",
   "execution_count": null,
   "metadata": {},
   "outputs": [],
   "source": [
    "# Obtener una lista de valores para una columna y acceder a un elemento\n",
    "data[\"Team\"].values[180]"
   ]
  },
  {
   "cell_type": "code",
   "execution_count": null,
   "metadata": {},
   "outputs": [],
   "source": [
    "# Acceder a la fila 1280 , columna 1 (empezando en cero)\n",
    "data.iloc[1280, 1]"
   ]
  },
  {
   "cell_type": "code",
   "execution_count": null,
   "metadata": {},
   "outputs": [],
   "source": [
    "# Ordenar por la fila \"Time\"\n",
    "data.sort_values([\"LapTime\"])"
   ]
  },
  {
   "cell_type": "markdown",
   "metadata": {},
   "source": [
    "<div class=\"alert alert-block alert-warning\">\n",
    "    <strong>NOTA:</strong> Las operaciones anteriores no son 'inplace', es decir, no modifican el DataFrame, solo lo consultan.\n",
    "</div>"
   ]
  },
  {
   "cell_type": "code",
   "execution_count": null,
   "metadata": {},
   "outputs": [],
   "source": [
    "# Obtener el número de vueltas máximo, medio y mínimo que se utilizó un juego de neumáticos\n",
    "mean_life = data[\"TyreLife\"].mean()\n",
    "min_life  = data[\"TyreLife\"].min()\n",
    "max_life  = data[\"TyreLife\"].max()\n",
    "\n",
    "print(min_life, mean_life ,max_life)"
   ]
  },
  {
   "cell_type": "code",
   "execution_count": null,
   "metadata": {},
   "outputs": [],
   "source": [
    "# Cambiar el tipo de una serie de columnas a int\n",
    "data[[\"DriverNumber\", \"LapNumber\", \"Stint\", \"TyreLife\", \"TrackStatus\", \"Position\"]] = data[[\"DriverNumber\", \"LapNumber\", \"Stint\", \"TyreLife\", \"TrackStatus\", \"Position\"]].astype(int)"
   ]
  },
  {
   "cell_type": "code",
   "execution_count": null,
   "metadata": {},
   "outputs": [],
   "source": [
    "# Añadir una nueva columna\n",
    "data[\"Nueva_columna_uno\"] = 1 # Todas las filas tendrán el mismo valor\n",
    "data[\"Nueva_columna_dos\"] = list(range(len(data))) # Nueva columna a partir de una lista de valores (tantos como filas)\n",
    "data[\"Nueva_columna_tres\"] = data[\"Stint\"] + 1 # Nueva columna a partir de otra"
   ]
  },
  {
   "cell_type": "code",
   "execution_count": null,
   "metadata": {},
   "outputs": [],
   "source": [
    "# Eliminar columnas\n",
    "data = data.drop(columns=[\"Nueva_columna_uno\", \"Nueva_columna_dos\", \"Nueva_columna_tres\"])\n",
    "# Esto es equivalente a:\n",
    "# data.drop(columns=[\"Nueva_columna_uno\", \"Nueva_columna_dos\", \"Nueva_columna_tres\"], inplace=True)"
   ]
  },
  {
   "cell_type": "markdown",
   "metadata": {},
   "source": [
    "<div class=\"alert alert-block alert-info\">\n",
    "    <b>Ejercicio:</b> Obtén el número de pilotos existentes.\n",
    "</div>"
   ]
  },
  {
   "cell_type": "code",
   "execution_count": null,
   "metadata": {},
   "outputs": [],
   "source": [
    "# Tu código aquí"
   ]
  },
  {
   "cell_type": "markdown",
   "metadata": {},
   "source": [
    "<div class=\"alert alert-block alert-info\">\n",
    "    <b>Ejercicio:</b> Cambia el tipo de las columnas: \"Time\", \"LapTime\", \"PitOutTime\", \"PitInTime\", \"Sector1Time\", \"Sector2Time\", \"Sector3Time\" y \"LapStartTime\" a <a href=\"https://pandas.pydata.org/docs/reference/api/pandas.to_timedelta.html\"><i>timedelta</i></a>.\n",
    "</div>"
   ]
  },
  {
   "cell_type": "code",
   "execution_count": null,
   "metadata": {},
   "outputs": [],
   "source": [
    "time_columns = [\"Time\", \"LapTime\", \"PitOutTime\", \"PitInTime\", \"Sector1Time\", \"Sector2Time\", \"Sector3Time\", \"LapStartTime\"]\n",
    "# Tu código aquí"
   ]
  },
  {
   "cell_type": "markdown",
   "metadata": {},
   "source": [
    "<div class=\"alert alert-block alert-info\">\n",
    "    <b>Ejercicio:</b> Cambia el tipo de la columna: \"LapStartDate\" a <a href=\"https://pandas.pydata.org/docs/reference/api/pandas.to_datetime.html\"><i>datetime</i></a>.\n",
    "</div>"
   ]
  },
  {
   "cell_type": "code",
   "execution_count": null,
   "metadata": {},
   "outputs": [],
   "source": [
    "# Tu código aquí"
   ]
  },
  {
   "cell_type": "markdown",
   "metadata": {},
   "source": [
    "<div class=\"alert alert-block alert-info\">\n",
    "    <b>Ejercicio:</b> ¿Qué piloto ha sido el mejor en el primer sector? ¿Y en el segundo?\n",
    "</div>"
   ]
  },
  {
   "cell_type": "code",
   "execution_count": null,
   "metadata": {},
   "outputs": [],
   "source": [
    "# Tu código aquí"
   ]
  },
  {
   "cell_type": "markdown",
   "metadata": {},
   "source": [
    "### **Filtrado de datos**"
   ]
  },
  {
   "cell_type": "code",
   "execution_count": null,
   "metadata": {},
   "outputs": [],
   "source": [
    "# Obtener el valor de una celda en concreto\n",
    "data.loc[572, 'Team']"
   ]
  },
  {
   "cell_type": "code",
   "execution_count": null,
   "metadata": {},
   "outputs": [],
   "source": [
    "# Obtener las vueltas de los pilotos cuyo equipo es \"Ferrari\"\n",
    "data_ferrari = data.loc[data[\"Team\"]==\"Ferrari\"]\n",
    "data_ferrari"
   ]
  },
  {
   "cell_type": "code",
   "execution_count": null,
   "metadata": {},
   "outputs": [],
   "source": [
    "# Obtener todas las vueltas 1,2 de los pilotos \n",
    "data.loc[data[\"LapNumber\"]<=2]"
   ]
  },
  {
   "cell_type": "code",
   "execution_count": null,
   "metadata": {},
   "outputs": [],
   "source": [
    "# Obtener las vueltas 10 de los pilotos de \"Ferrari\"\n",
    "data_ferrari_10 = data.loc[(data[\"LapNumber\"]==10) & (data[\"Team\"]==\"Ferrari\")]\n",
    "data_ferrari_10"
   ]
  },
  {
   "cell_type": "code",
   "execution_count": null,
   "metadata": {},
   "outputs": [],
   "source": [
    "# Obtener las vueltas de los pilotos \"SAI\" o \"LEC\"\n",
    "data.loc[(data[\"Driver\"]==\"SAI\") | (data[\"Driver\"]==\"LEC\")]"
   ]
  },
  {
   "cell_type": "code",
   "execution_count": null,
   "metadata": {},
   "outputs": [],
   "source": [
    "# Otra opción para lo anterior\n",
    "data.loc[data[\"Driver\"].isin([\"SAI\",\"LEC\"])]"
   ]
  },
  {
   "cell_type": "code",
   "execution_count": null,
   "metadata": {},
   "outputs": [],
   "source": [
    "# Obtener vueltas de equipos que contengan \"Bull\"\n",
    "data.loc[data[\"Team\"].str.contains(\"Bull\")]"
   ]
  },
  {
   "cell_type": "markdown",
   "metadata": {},
   "source": [
    "<div class=\"alert alert-block alert-info\">\n",
    "    <b>Ejercicio:</b> Soluciona los NaT en los tiempos de las columnas \"Sector1Time\" y \"LapTime\".\n",
    "</div>"
   ]
  },
  {
   "cell_type": "code",
   "execution_count": null,
   "metadata": {},
   "outputs": [],
   "source": [
    "# Tu código aquí"
   ]
  },
  {
   "cell_type": "markdown",
   "metadata": {},
   "source": [
    "<div class=\"alert alert-block alert-info\">\n",
    "    <b>Ejercicio:</b> Obtén el tiempo medio por vuelta de los pilotos de \"AlphaTauri\" entre las vueltas 1 y 20 (inclusive).\n",
    "</div>"
   ]
  },
  {
   "cell_type": "code",
   "execution_count": null,
   "metadata": {},
   "outputs": [],
   "source": [
    "# Tu código aquí"
   ]
  },
  {
   "cell_type": "markdown",
   "metadata": {},
   "source": [
    "<div class=\"alert alert-block alert-info\">\n",
    "    <b>Ejercicio:</b> ¿Cuál fué la velocidad máxima en la línea de meta de Alonso? ¿Y de Verstappen? ¿En qué vueltas?.\n",
    "</div>"
   ]
  },
  {
   "cell_type": "code",
   "execution_count": null,
   "metadata": {},
   "outputs": [],
   "source": [
    "# Tu código aquí"
   ]
  },
  {
   "cell_type": "markdown",
   "metadata": {},
   "source": [
    "### **Agrupación de datos**"
   ]
  },
  {
   "cell_type": "code",
   "execution_count": null,
   "metadata": {},
   "outputs": [],
   "source": [
    "# Número de pilotos por equipo\n",
    "data.groupby(\"Team\")[\"Driver\"].nunique().reset_index()"
   ]
  },
  {
   "cell_type": "code",
   "execution_count": null,
   "metadata": {},
   "outputs": [],
   "source": [
    "# Lista de pilotos por equipo\n",
    "data.groupby(\"Team\")[\"Driver\"].unique().reset_index()"
   ]
  },
  {
   "cell_type": "code",
   "execution_count": null,
   "metadata": {},
   "outputs": [],
   "source": [
    "# Otra opción\n",
    "data.groupby(\"Team\")[\"Driver\"].apply(lambda x: list(set(x))).reset_index()"
   ]
  },
  {
   "cell_type": "code",
   "execution_count": null,
   "metadata": {},
   "outputs": [],
   "source": [
    "# Número de vueltas por piloto ordenado de mayor a menor.\n",
    "data.groupby(\"Driver\")[\"LapNumber\"].max().sort_values(ascending=False).reset_index()"
   ]
  },
  {
   "cell_type": "code",
   "execution_count": null,
   "metadata": {},
   "outputs": [],
   "source": [
    "# Otra opción\n",
    "data.groupby(\"Driver\")[\"LapNumber\"].size().sort_values(ascending=False).reset_index()"
   ]
  },
  {
   "cell_type": "code",
   "execution_count": null,
   "metadata": {},
   "outputs": [],
   "source": [
    "# Velocidad media en la linea de meta por cada equipo\n",
    "data.groupby('Team')['SpeedFL'].mean().sort_values(ascending=False).reset_index()"
   ]
  },
  {
   "cell_type": "code",
   "execution_count": null,
   "metadata": {},
   "outputs": [],
   "source": [
    "# Otra opción que permite personalizar el nombre de la nueva columna así como crear varias de una vez\n",
    "data.groupby('Team').agg(AvgFlSpeed=(\"SpeedFL\", \"mean\")).sort_values(\"AvgFlSpeed\", ascending=False).reset_index()"
   ]
  },
  {
   "cell_type": "code",
   "execution_count": null,
   "metadata": {},
   "outputs": [],
   "source": [
    "# La Pivot Table o tabla dinámica también permite agrupar datos de forma más compleja.\n",
    "# En este ejemplo se muestra para cada piloto de cada equipo, el número de vueltas que dió con cada compuesto así como los totales por filas y columnas (margins)\n",
    "data.pivot_table(index=[\"Team\", \"Driver\"], columns=[\"Compound\"], values=\"LapNumber\", aggfunc=\"count\", fill_value=0, margins=True, margins_name=\"Total\")\n"
   ]
  },
  {
   "cell_type": "markdown",
   "metadata": {},
   "source": [
    "<div class=\"alert alert-block alert-info\">\n",
    "    <b>Ejercicio:</b> Obtén, para cada piloto, el número de vueltas anuladas. Ordena de mayor a menor.\n",
    "</div>"
   ]
  },
  {
   "cell_type": "code",
   "execution_count": null,
   "metadata": {},
   "outputs": [],
   "source": [
    "# Tu código aquí"
   ]
  },
  {
   "cell_type": "markdown",
   "metadata": {},
   "source": [
    "<div class=\"alert alert-block alert-info\">\n",
    "    <b>Ejercicio:</b> Obtén, para cada piloto, el número de Pit Stops realizados.\n",
    "</div>"
   ]
  },
  {
   "cell_type": "code",
   "execution_count": null,
   "metadata": {},
   "outputs": [],
   "source": [
    "# Tu código aquí"
   ]
  },
  {
   "cell_type": "markdown",
   "metadata": {},
   "source": [
    "<div class=\"alert alert-block alert-info\">\n",
    "    <b>Ejercicio:</b> Crea una tabla donde se muestre en las filas los equipos y pilotos y en las columnas las 10 primeras vueltas. Se ha de mostrar el tiempo por vuelta de cada piloto en segundos (tiempo.dt.total_seconds()).\n",
    "</div>"
   ]
  },
  {
   "cell_type": "code",
   "execution_count": null,
   "metadata": {},
   "outputs": [],
   "source": [
    "# Tu código aquí"
   ]
  },
  {
   "cell_type": "markdown",
   "metadata": {},
   "source": [
    "### **Limpieza final y almacenamiento del DataFrame**\n",
    "Para poder utilizar este conjunto en futuras prácticas, vamos a eliminar ciertas filas y columnas que no van a aportar información relevante para los problemas que resolveremos."
   ]
  },
  {
   "cell_type": "markdown",
   "metadata": {},
   "source": [
    "<div class=\"alert alert-block alert-info\">\n",
    "    <b>Ejercicio:</b> Elimina todas aquellas filas que no tengan \"TrackStatus\" igual a 1 y aquellas que se correspondan con una parada en boxes. Estas últimas tendrán un valor en \"PitOutTime\" o en \"PitInTime\". Ordena de menor a mayor \"Time\" y haz un \"reset_index(drop=true)\" para que se vuelvan a crear los índices de las filas.\n",
    "</div>"
   ]
  },
  {
   "cell_type": "code",
   "execution_count": null,
   "metadata": {},
   "outputs": [],
   "source": [
    "# Tu código aquí"
   ]
  },
  {
   "cell_type": "markdown",
   "metadata": {},
   "source": [
    "<div class=\"alert alert-block alert-info\">\n",
    "    <b>Ejercicio:</b> Elimina finalmente las columnas \"Deleted\", \"DeletedReason\", \"IsAccurate\", \"TrackStatus\", \"PitOutTime\" y\"PitInTime\".\n",
    "</div>"
   ]
  },
  {
   "cell_type": "code",
   "execution_count": null,
   "metadata": {},
   "outputs": [],
   "source": [
    "# Tu código aquí"
   ]
  },
  {
   "cell_type": "markdown",
   "metadata": {},
   "source": [
    "Una vez realizada esta fase de análisis y limpieza del conjunto, almacenaremos el DataFrame de Pandas en un fichero de tipo `Pickle`.\n",
    "Es posible almacenarlo como `CSV` o `XLSX`, pero estos formatos no guardan los tipos de las columnas. Esto provocaría que al cargarlo en el futuro tendríamos que volver a hacer un casting (`.astype()`) de cada columna. "
   ]
  },
  {
   "cell_type": "code",
   "execution_count": null,
   "metadata": {},
   "outputs": [],
   "source": [
    "data.to_pickle(\"f1_23_monaco.pkl\")"
   ]
  }
 ],
 "metadata": {
  "kernelspec": {
   "display_name": "SSII",
   "language": "python",
   "name": "python3"
  },
  "language_info": {
   "codemirror_mode": {
    "name": "ipython",
    "version": 3
   },
   "file_extension": ".py",
   "mimetype": "text/x-python",
   "name": "python",
   "nbconvert_exporter": "python",
   "pygments_lexer": "ipython3",
   "version": "3.9.5"
  }
 },
 "nbformat": 4,
 "nbformat_minor": 2
}
