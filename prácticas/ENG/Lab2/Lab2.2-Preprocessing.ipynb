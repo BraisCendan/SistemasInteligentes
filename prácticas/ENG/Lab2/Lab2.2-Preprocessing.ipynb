{
 "cells": [
  {
   "cell_type": "markdown",
   "metadata": {},
   "source": [
    "# **Lab 2.2: Preprocessing**\n",
    "\n",
    "<hr>\n",
    "\n",
    "## **1. Objective**\n",
    "In this lab, we will download a dataset, analyze it, and clean it for use in future labs.\n",
    "\n",
    "### **Pandas Library**\n",
    "It is considered the most popular data analysis library in Python.\n",
    "It performs all its operations using a *\"DataFrame\"* object.\n",
    "\n",
    "It allows, among other operations:  \n",
    "\n",
    "* Loading and storing data in different formats (csv, tsv, xlsx, txt...).  \n",
    "* Manipulating rows, columns, and cells.  \n",
    "* Filtering or grouping content.  \n",
    "* Performing intersection, concatenation, or merging of multiple DataFrames.  \n",
    "\n",
    "To install it:"
   ]
  },
  {
   "cell_type": "code",
   "execution_count": null,
   "metadata": {},
   "outputs": [],
   "source": [
    "! pip install pandas"
   ]
  },
  {
   "cell_type": "markdown",
   "metadata": {},
   "source": [
    "<div class=\"alert alert-block alert-warning\">  \n",
    "    <strong>NOTE:</strong> The exclamation mark before the code indicates to Jupyter that this is not Python and should be executed in the terminal. This allows us to install libraries directly from the notebook.\n",
    "</div>"
   ]
  },
  {
   "cell_type": "markdown",
   "metadata": {},
   "source": [
    "<hr>\n",
    "\n",
    "## **2. Exploratory Data Analysis (EDA)**\n",
    "\n",
    "The main objectives of this analysis are:\n",
    "* Understand the data we will be working with.\n",
    "* Clean the dataset:\n",
    "  * Remove empty rows or columns.\n",
    "  * Eliminate inconsistent values.\n",
    "\n",
    "Our dataset contains information about a race from the 2023 Formula 1 season.\n",
    "Next, we will download the data and analyze it using the Pandas library."
   ]
  },
  {
   "cell_type": "code",
   "execution_count": null,
   "metadata": {},
   "outputs": [],
   "source": [
    "import pandas as pd\n",
    "\n",
    "url_data = 'https://raw.githubusercontent.com/AIC-Uniovi/Sistemas-Inteligentes/refs/heads/main/datasets/f1_23_monaco.csv'\n",
    "data = pd.read_csv(url_data)"
   ]
  },
  {
   "cell_type": "markdown",
   "metadata": {},
   "source": [
    "**Description of Dataset Columns**\n",
    "\n",
    "| Column               | Description |\n",
    "|----------------------|------------|\n",
    "| `Time`              | Total elapsed time in the session. |\n",
    "| `Driver`            | Three-letter driver code. |\n",
    "| `DriverNumber`      | Driver's race number. |\n",
    "| `LapTime`           | Total lap time. |\n",
    "| `LapNumber`         | Lap number in the session. |\n",
    "| `Stint`             | Current stint number (period between pit stops). |\n",
    "| `PitOutTime`        | Time when the driver exited the pit lane. |\n",
    "| `PitInTime`         | Time when the driver entered the pit lane. |\n",
    "| `Sector1Time`       | Time recorded in the first sector of the lap. |\n",
    "| `Sector2Time`       | Time recorded in the second sector of the lap. |\n",
    "| `Sector3Time`       | Time recorded in the third sector of the lap. |\n",
    "| `SpeedI1`           | Speed measured at the first detection point. |\n",
    "| `SpeedI2`           | Speed measured at the second detection point. |\n",
    "| `SpeedFL`           | Speed at the finish line. |\n",
    "| `SpeedST`           | Maximum speed in the sector. |\n",
    "| `IsPersonalBest`    | Indicates if the lap is the driver's personal best (`True`/`False`). |\n",
    "| `Compound`          | Type of tire compound used. |\n",
    "| `TyreLife`          | Number of laps the tire has been used. |\n",
    "| `FreshTyre`         | Indicates if the tire was new at the start of the lap (`True`/`False`). |\n",
    "| `Team`              | Driver's team name. |\n",
    "| `LapStartTime`      | Lap start time within the session. |\n",
    "| `LapStartDate`      | Exact date and time of lap start. |\n",
    "| `TrackStatus`       | Track condition during the lap (e.g., yellow flag, green flag, etc.). |\n",
    "| `Position`          | Driver's position at the end of the lap. |\n",
    "| `Deleted`           | Indicates if the lap was deleted (`True`/`False`). |\n",
    "| `DeletedReason`     | Reason why the lap was deleted (if applicable). |\n",
    "| `IsAccurate`        | Indicates if the lap data is accurate (`True`/`False`). |"
   ]
  },
  {
   "cell_type": "markdown",
   "metadata": {},
   "source": [
    "### **Basic Operations**"
   ]
  },
  {
   "cell_type": "code",
   "execution_count": null,
   "metadata": {},
   "outputs": [],
   "source": [
    "# Column names\n",
    "data.columns"
   ]
  },
  {
   "cell_type": "code",
   "execution_count": null,
   "metadata": {},
   "outputs": [],
   "source": [
    "# Column types\n",
    "data.dtypes"
   ]
  },
  {
   "cell_type": "code",
   "execution_count": null,
   "metadata": {},
   "outputs": [],
   "source": [
    "# Number of columns\n",
    "len(data.columns)"
   ]
  },
  {
   "cell_type": "code",
   "execution_count": null,
   "metadata": {},
   "outputs": [],
   "source": [
    "# Number of rows\n",
    "len(data)"
   ]
  },
  {
   "cell_type": "code",
   "execution_count": null,
   "metadata": {},
   "outputs": [],
   "source": [
    "# Get basic statistics for the entire dataset  \n",
    "data.describe()"
   ]
  },
  {
   "cell_type": "code",
   "execution_count": null,
   "metadata": {},
   "outputs": [],
   "source": [
    "# Find columns with missing values\n",
    "data.isnull().any()"
   ]
  },
  {
   "cell_type": "code",
   "execution_count": null,
   "metadata": {},
   "outputs": [],
   "source": [
    "# Display the first 5 rows\n",
    "data.head(5)"
   ]
  },
  {
   "cell_type": "code",
   "execution_count": null,
   "metadata": {},
   "outputs": [],
   "source": [
    "# Display the last 5 rows\n",
    "data.tail(5)"
   ]
  },
  {
   "cell_type": "code",
   "execution_count": null,
   "metadata": {},
   "outputs": [],
   "source": [
    "# Access a specific column \n",
    "data['Driver']"
   ]
  },
  {
   "cell_type": "code",
   "execution_count": null,
   "metadata": {},
   "outputs": [],
   "source": [
    "# Get multiple statistics for a column\n",
    "data['Stint'].describe()"
   ]
  },
  {
   "cell_type": "code",
   "execution_count": null,
   "metadata": {},
   "outputs": [],
   "source": [
    "# Operations on numeric columns\n",
    "data['LapNumber'] + 1"
   ]
  },
  {
   "cell_type": "code",
   "execution_count": null,
   "metadata": {},
   "outputs": [],
   "source": [
    "# View unique (non-repeating) values of a column\n",
    "data['Team'].unique()"
   ]
  },
  {
   "cell_type": "code",
   "execution_count": null,
   "metadata": {},
   "outputs": [],
   "source": [
    "len(data['Team'].unique())"
   ]
  },
  {
   "cell_type": "code",
   "execution_count": null,
   "metadata": {},
   "outputs": [],
   "source": [
    "# Access multiple columns\n",
    "data[['Driver', 'Team']]"
   ]
  },
  {
   "cell_type": "code",
   "execution_count": null,
   "metadata": {},
   "outputs": [],
   "source": [
    "# Get a list of values from a column and access aneElement\n",
    "data['Team'].values[180]"
   ]
  },
  {
   "cell_type": "code",
   "execution_count": null,
   "metadata": {},
   "outputs": [],
   "source": [
    "# Access row 1280, column 1 (zero-indexed)\n",
    "data.iloc[1280, 1]"
   ]
  },
  {
   "cell_type": "code",
   "execution_count": null,
   "metadata": {},
   "outputs": [],
   "source": [
    "# Sort by the 'LapTime' column\n",
    "data.sort_values(['LapTime'])"
   ]
  },
  {
   "cell_type": "markdown",
   "metadata": {},
   "source": [
    "<div class='alert alert-block alert-warning'>\n",
    "    <strong>NOTE:</strong> The previous operations are not 'inplace', meaning they do not modify the DataFrame, they only query it.\n",
    "</div>"
   ]
  },
  {
   "cell_type": "code",
   "execution_count": null,
   "metadata": {},
   "outputs": [],
   "source": [
    "# Get the maximum, mean, and minimum number of laps a set of tires was used\n",
    "mean_life = data['TyreLife'].mean()\n",
    "min_life = data['TyreLife'].min()\n",
    "max_life = data['TyreLife'].max()\n",
    "\n",
    "print(min_life, mean_life, max_life)"
   ]
  },
  {
   "cell_type": "code",
   "execution_count": null,
   "metadata": {},
   "outputs": [],
   "source": [
    "# Change the type of a series of columns to int\n",
    "data[['DriverNumber', 'LapNumber', 'Stint', 'TyreLife', 'TrackStatus', 'Position']] = data[['DriverNumber', 'LapNumber', 'Stint', 'TyreLife', 'TrackStatus', 'Position']].astype(int)"
   ]
  },
  {
   "cell_type": "code",
   "execution_count": null,
   "metadata": {},
   "outputs": [],
   "source": [
    "# Add a new column\n",
    "data['New_Column_1'] = 1 # All rows will have the same value\n",
    "data['New_Column_2'] = list(range(len(data))) # New column created from a list of values (as many as rows)\n",
    "data['New_Column_3'] = data['Stint'] + 1 # New column created from another column"
   ]
  },
  {
   "cell_type": "code",
   "execution_count": null,
   "metadata": {},
   "outputs": [],
   "source": [
    "# Delete columns\n",
    "data = data.drop(columns = ['New_Column_1', 'New_Column_2', 'New_Column_3'])\n",
    "# This is equivalent to:\n",
    "# data.drop(columns = ['New_Column_1', 'New_Column_2', 'New_Column_3'], inplace = True)"
   ]
  },
  {
   "cell_type": "markdown",
   "metadata": {},
   "source": [
    "<div class=\"alert alert-block alert-info\">\n",
    "    <b>Exercise:</b> Get the number of unique drivers.\n",
    "</div>"
   ]
  },
  {
   "cell_type": "code",
   "execution_count": null,
   "metadata": {},
   "outputs": [],
   "source": [
    "# Your code here"
   ]
  },
  {
   "cell_type": "markdown",
   "metadata": {},
   "source": [
    "<div class=\"alert alert-block alert-info\">\n",
    "    <b>Exercise:</b> Change the type of the columns: \"Time\", \"LapTime\", \"PitOutTime\", \"PitInTime\", \"Sector1Time\", \"Sector2Time\", \"Sector3Time\" and \"LapStartTime\" to <a href=\"https://pandas.pydata.org/docs/reference/api/pandas.to_timedelta.html\"><i>timedelta</i></a>.\n",
    "</div>"
   ]
  },
  {
   "cell_type": "code",
   "execution_count": null,
   "metadata": {},
   "outputs": [],
   "source": [
    "time_columns = ['Time', 'LapTime', 'PitOutTime', 'PitInTime', 'Sector1Time', 'Sector2Time', 'Sector3Time', 'LapStartTime']\n",
    "# Your code here"
   ]
  },
  {
   "cell_type": "markdown",
   "metadata": {},
   "source": [
    "<div class=\"alert alert-block alert-info\">\n",
    "    <b>Exercise:</b> Change the type of the column: 'LapStartDate' to <a href=\"https://pandas.pydata.org/docs/reference/api/pandas.to_datetime.html\"><i>datetime</i></a>.\n",
    "</div>"
   ]
  },
  {
   "cell_type": "code",
   "execution_count": null,
   "metadata": {},
   "outputs": [],
   "source": [
    "# Your code here"
   ]
  },
  {
   "cell_type": "markdown",
   "metadata": {},
   "source": [
    "<div class=\"alert alert-block alert-info\">\n",
    "    <b>Exercise:</b> Which driver has been the best in the first sector? And in the second sector?\n",
    "</div>"
   ]
  },
  {
   "cell_type": "code",
   "execution_count": null,
   "metadata": {},
   "outputs": [],
   "source": [
    "# Your code here"
   ]
  },
  {
   "cell_type": "markdown",
   "metadata": {},
   "source": [
    "### **Data Filtering**"
   ]
  },
  {
   "cell_type": "code",
   "execution_count": null,
   "metadata": {},
   "outputs": [],
   "source": [
    "# Get the value of a specific cell\n",
    "data.loc[572, 'Team']"
   ]
  },
  {
   "cell_type": "code",
   "execution_count": null,
   "metadata": {},
   "outputs": [],
   "source": [
    "# Get the laps of drivers whose team is 'Ferrari'\n",
    "data_ferrari = data.loc[data['Team'] == 'Ferrari']\n",
    "data_ferrari"
   ]
  },
  {
   "cell_type": "code",
   "execution_count": null,
   "metadata": {},
   "outputs": [],
   "source": [
    "# Get all laps 1 and 2 of the drivers\n",
    "data.loc[data['LapNumber'] <= 2]"
   ]
  },
  {
   "cell_type": "code",
   "execution_count": null,
   "metadata": {},
   "outputs": [],
   "source": [
    "# Get lap 10 of the drivers from 'Ferrari'\n",
    "data_ferrari_10 = data.loc[(data['LapNumber'] == 10) & (data['Team'] == 'Ferrari')]\n",
    "data_ferrari_10"
   ]
  },
  {
   "cell_type": "code",
   "execution_count": null,
   "metadata": {},
   "outputs": [],
   "source": [
    "# Get the laps of the drivers 'SAI' or 'LEC'\n",
    "data.loc[(data['Driver'] == 'SAI') | (data['Driver'] == 'LEC')]"
   ]
  },
  {
   "cell_type": "code",
   "execution_count": null,
   "metadata": {},
   "outputs": [],
   "source": [
    "# Another option for getting the  laps of the drivers 'SAI' or 'LEC'\n",
    "data.loc[data['Driver'].isin(['SAI', 'LEC'])]"
   ]
  },
  {
   "cell_type": "code",
   "execution_count": null,
   "metadata": {},
   "outputs": [],
   "source": [
    "# Get laps from teams that contain 'Bull'\n",
    "data.loc[data['Team'].str.contains('Bull')]"
   ]
  },
  {
   "cell_type": "markdown",
   "metadata": {},
   "source": [
    "<div class=\"alert alert-block alert-info\">\n",
    "    <b>Exercise:</b> Fix the NaT values in the times of the columns 'Sector1Time' and 'LapTime'.\n",
    "</div>"
   ]
  },
  {
   "cell_type": "code",
   "execution_count": null,
   "metadata": {},
   "outputs": [],
   "source": [
    "# Your code here"
   ]
  },
  {
   "cell_type": "markdown",
   "metadata": {},
   "source": [
    "<div class=\"alert alert-block alert-info\">\n",
    "    <b>Exercise:</b> Get the average lap time of 'AlphaTauri' drivers between laps 1 and 20 (inclusive).\n",
    "</div>"
   ]
  },
  {
   "cell_type": "code",
   "execution_count": null,
   "metadata": {},
   "outputs": [],
   "source": [
    "# Your code here"
   ]
  },
  {
   "cell_type": "markdown",
   "metadata": {},
   "source": [
    "<div class=\"alert alert-block alert-info\">\n",
    "    <b>Exercise:</b> What was the maximum speed at the finish line for Alonso? And for Verstappen? In which laps?\n",
    "</div>"
   ]
  },
  {
   "cell_type": "code",
   "execution_count": null,
   "metadata": {},
   "outputs": [],
   "source": [
    "# Your code here"
   ]
  },
  {
   "cell_type": "markdown",
   "metadata": {},
   "source": [
    "### **Data Grouping**"
   ]
  },
  {
   "cell_type": "code",
   "execution_count": null,
   "metadata": {},
   "outputs": [],
   "source": [
    "# Get the number of drivers per team\n",
    "data.groupby('Team')['Driver'].nunique().reset_index()"
   ]
  },
  {
   "cell_type": "code",
   "execution_count": null,
   "metadata": {},
   "outputs": [],
   "source": [
    "# List of drivers by team\n",
    "data.groupby('Team')['Driver'].unique().reset_index()"
   ]
  },
  {
   "cell_type": "code",
   "execution_count": null,
   "metadata": {},
   "outputs": [],
   "source": [
    "# Another option to get the list of drivers by Team\n",
    "data.groupby('Team')['Driver'].apply(lambda x: list(set(x))).reset_index()"
   ]
  },
  {
   "cell_type": "code",
   "execution_count": null,
   "metadata": {},
   "outputs": [],
   "source": [
    "# Number of laps per driver ordered from highest to lowest\n",
    "data.groupby('Driver')['LapNumber'].max().sort_values(ascending = False).reset_index()"
   ]
  },
  {
   "cell_type": "code",
   "execution_count": null,
   "metadata": {},
   "outputs": [],
   "source": [
    "# Another option to get the Number of laps per driver ordered from highest to lowest\n",
    "data.groupby('Driver')['LapNumber'].size().sort_values(ascending = False).reset_index()"
   ]
  },
  {
   "cell_type": "code",
   "execution_count": null,
   "metadata": {},
   "outputs": [],
   "source": [
    "# Average speed at the finish line for each team\n",
    "data.groupby('Team')['SpeedFL'].mean().sort_values(ascending = False).reset_index()"
   ]
  },
  {
   "cell_type": "code",
   "execution_count": null,
   "metadata": {},
   "outputs": [],
   "source": [
    "# Another option that allows customizing the name of the new column and creating multiple at once\n",
    "data.groupby('Team').agg(AvgFlSpeed = ('SpeedFL', 'mean')).sort_values('AvgFlSpeed', ascending = False).reset_index()"
   ]
  },
  {
   "cell_type": "code",
   "execution_count": null,
   "metadata": {},
   "outputs": [],
   "source": [
    "# The Pivot Table allows grouping data in a more complex way.\n",
    "# In this example, it shows for each Driver from each Team, the Number of Laps they did with each compound, as well as the totals for rows and columns (margins).\n",
    "data.pivot_table(index = ['Team', 'Driver'], columns = ['Compound'], values = 'LapNumber', aggfunc = 'count', fill_value = 0, margins = True, margins_name = 'Total')"
   ]
  },
  {
   "cell_type": "markdown",
   "metadata": {},
   "source": [
    "<div class=\"alert alert-block alert-info\">\n",
    "    <b>Exercise:</b> Get the number of laps annulled for each driver. Order from highest to lowest.\n",
    "</div>"
   ]
  },
  {
   "cell_type": "code",
   "execution_count": null,
   "metadata": {},
   "outputs": [],
   "source": [
    "# Your code here"
   ]
  },
  {
   "cell_type": "markdown",
   "metadata": {},
   "source": [
    "<div class=\"alert alert-block alert-info\">\n",
    "    <b>Exercise:</b> Get the number of pit stops made by each driver.\n",
    "</div>"
   ]
  },
  {
   "cell_type": "code",
   "execution_count": null,
   "metadata": {},
   "outputs": [],
   "source": [
    "# Your code here"
   ]
  },
  {
   "cell_type": "markdown",
   "metadata": {},
   "source": [
    "<div class=\"alert alert-block alert-info\">\n",
    "    <b>Exercise:</b> Create a table where the rows show the teams and drivers, and the columns represent the first 10 laps. The lap time should be displayed in seconds (using time.dt.total_seconds()).\n",
    "</div>"
   ]
  },
  {
   "cell_type": "code",
   "execution_count": null,
   "metadata": {},
   "outputs": [],
   "source": [
    "# Your code here"
   ]
  },
  {
   "cell_type": "markdown",
   "metadata": {},
   "source": [
    "### **Final Cleanup and Storage of the DataFrame**\n",
    "\n",
    "To ensure that this dataset is ready for future use in practice, we will remove certain rows and columns that won't contribute useful information to the problems we'll solve."
   ]
  },
  {
   "cell_type": "markdown",
   "metadata": {},
   "source": [
    "<div class=\"alert alert-block alert-info\">\n",
    "    <b>Exercise:</b> Remove all rows where 'TrackStatus' is not equal to 1 and those that correspond to a pit stop. The latter will have a value in 'PitOutTime' or 'PitInTime'. Sort by 'Time' in ascending order and reset the index using `reset_index(drop=True)` to reassign the row indices.\n",
    "</div>"
   ]
  },
  {
   "cell_type": "code",
   "execution_count": null,
   "metadata": {},
   "outputs": [],
   "source": [
    "# Your code here"
   ]
  },
  {
   "cell_type": "markdown",
   "metadata": {},
   "source": [
    "<div class=\"alert alert-block alert-info\">\n",
    "    <b>Exercise:</b> Finally, remove the columns \"Deleted\", \"DeletedReason\", \"IsAccurate\", \"TrackStatus\", \"PitOutTime\", and \"PitInTime\".\n",
    "</div>"
   ]
  },
  {
   "cell_type": "code",
   "execution_count": null,
   "metadata": {},
   "outputs": [],
   "source": [
    "# Your code here"
   ]
  },
  {
   "cell_type": "markdown",
   "metadata": {},
   "source": [
    "Once this phase of analysis and cleaning of the dataset is completed, we will store the Pandas DataFrame in a `Pickle` file.\n",
    "It is possible to store it as `CSV` or `XLSX`, but these formats do not preserve the column types. This would mean that when loading it in the future, we would have to re-cast (`.astype()`) each column."
   ]
  },
  {
   "cell_type": "code",
   "execution_count": null,
   "metadata": {},
   "outputs": [],
   "source": [
    "data.to_pickle('f1_23_monaco.pkl')"
   ]
  }
 ],
 "metadata": {
  "kernelspec": {
   "display_name": "base",
   "language": "python",
   "name": "python3"
  },
  "language_info": {
   "codemirror_mode": {
    "name": "ipython",
    "version": 3
   },
   "file_extension": ".py",
   "mimetype": "text/x-python",
   "name": "python",
   "nbconvert_exporter": "python",
   "pygments_lexer": "ipython3",
   "version": "3.10.9"
  }
 },
 "nbformat": 4,
 "nbformat_minor": 2
}
